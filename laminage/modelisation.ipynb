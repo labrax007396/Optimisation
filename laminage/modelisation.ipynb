{
 "cells": [
  {
   "cell_type": "code",
   "execution_count": 1,
   "metadata": {},
   "outputs": [],
   "source": [
    "import pandas as pd"
   ]
  },
  {
   "cell_type": "markdown",
   "metadata": {},
   "source": [
    "## Lecture des données"
   ]
  },
  {
   "cell_type": "code",
   "execution_count": 51,
   "metadata": {},
   "outputs": [],
   "source": [
    "data = pd.read_csv(\"finisseurs.csv\",sep=\";\",decimal=\",\",index_col=0)\n",
    "epdeg = pd.read_csv(\"epdeg.csv\",sep=\";\",decimal=\",\",index_col=0)\n",
    "data = pd.concat([data,epdeg],axis=1)\n",
    "data = data[data['metal']==4]\n",
    "data.dropna(inplace=True)\n",
    "\n"
   ]
  },
  {
   "cell_type": "code",
   "execution_count": null,
   "metadata": {},
   "outputs": [],
   "source": [
    "data.groupby(['metal']).size().sort_values()"
   ]
  },
  {
   "cell_type": "code",
   "execution_count": 52,
   "metadata": {},
   "outputs": [],
   "source": [
    "data = data[(data['esort_1']>=16) & (data['esort_1']<=35)]\n",
    "data = data[(data['esort_2']>=5) & (data['esort_2']<=35)]\n",
    "data = data[(data['esort_3']>=1) & (data['esort_3']<=35)]\n",
    "data = data[(data['esort_4']>=1) & (data['esort_4']<=35)]\n",
    "data = data[(data['esort_5']>=1) & (data['esort_5']<=35)]\n",
    "data = data[(data['esort_6']>=1) & (data['esort_6']<=35)]\n",
    "data = data[(data['esort_7']>=1) & (data['esort_7']<=35)]\n",
    "\n",
    "for p in [1,2,3,4,5,6,7]:\n",
    "    data = data[data['pf'+str(p)]>0]\n",
    "data = data[data['larg']>0]\n"
   ]
  },
  {
   "cell_type": "code",
   "execution_count": 53,
   "metadata": {},
   "outputs": [],
   "source": [
    "\n",
    "for p in [1,2,3,4,5,6,7]:\n",
    "    data['pf'+str(p)] = data['pf'+str(p)]/1000000\n",
    "\n",
    "#for p in [2,3,4,5,6,7]:\n",
    "#    data['epentr_'+str(p)] = data['esort_'+str(p-1)]"
   ]
  },
  {
   "cell_type": "code",
   "execution_count": 54,
   "metadata": {},
   "outputs": [
    {
     "data": {
      "text/html": [
       "<div>\n",
       "<style scoped>\n",
       "    .dataframe tbody tr th:only-of-type {\n",
       "        vertical-align: middle;\n",
       "    }\n",
       "\n",
       "    .dataframe tbody tr th {\n",
       "        vertical-align: top;\n",
       "    }\n",
       "\n",
       "    .dataframe thead th {\n",
       "        text-align: right;\n",
       "    }\n",
       "</style>\n",
       "<table border=\"1\" class=\"dataframe\">\n",
       "  <thead>\n",
       "    <tr style=\"text-align: right;\">\n",
       "      <th></th>\n",
       "      <th>pf1</th>\n",
       "      <th>pf2</th>\n",
       "      <th>pf3</th>\n",
       "      <th>pf4</th>\n",
       "      <th>pf5</th>\n",
       "      <th>pf6</th>\n",
       "      <th>pf7</th>\n",
       "      <th>metal</th>\n",
       "      <th>larg</th>\n",
       "      <th>esort_1</th>\n",
       "      <th>esort_2</th>\n",
       "      <th>esort_3</th>\n",
       "      <th>esort_4</th>\n",
       "      <th>esort_5</th>\n",
       "      <th>esort_6</th>\n",
       "      <th>esort_7</th>\n",
       "      <th>epentr_1</th>\n",
       "    </tr>\n",
       "    <tr>\n",
       "      <th>Date</th>\n",
       "      <th></th>\n",
       "      <th></th>\n",
       "      <th></th>\n",
       "      <th></th>\n",
       "      <th></th>\n",
       "      <th></th>\n",
       "      <th></th>\n",
       "      <th></th>\n",
       "      <th></th>\n",
       "      <th></th>\n",
       "      <th></th>\n",
       "      <th></th>\n",
       "      <th></th>\n",
       "      <th></th>\n",
       "      <th></th>\n",
       "      <th></th>\n",
       "      <th></th>\n",
       "    </tr>\n",
       "  </thead>\n",
       "  <tbody>\n",
       "    <tr>\n",
       "      <th>01/01/2019 01:19:24</th>\n",
       "      <td>7.289175</td>\n",
       "      <td>7.428041</td>\n",
       "      <td>6.730653</td>\n",
       "      <td>7.056374</td>\n",
       "      <td>6.950488</td>\n",
       "      <td>6.168378</td>\n",
       "      <td>2.372457</td>\n",
       "      <td>4</td>\n",
       "      <td>1560.737305</td>\n",
       "      <td>19.875496</td>\n",
       "      <td>12.323304</td>\n",
       "      <td>8.256593</td>\n",
       "      <td>5.715446</td>\n",
       "      <td>4.297836</td>\n",
       "      <td>3.329766</td>\n",
       "      <td>3.00</td>\n",
       "      <td>34.026127</td>\n",
       "    </tr>\n",
       "    <tr>\n",
       "      <th>01/01/2019 01:20:44</th>\n",
       "      <td>7.836250</td>\n",
       "      <td>7.648174</td>\n",
       "      <td>7.337168</td>\n",
       "      <td>7.625006</td>\n",
       "      <td>7.238607</td>\n",
       "      <td>6.410951</td>\n",
       "      <td>2.302351</td>\n",
       "      <td>4</td>\n",
       "      <td>1514.797119</td>\n",
       "      <td>19.439274</td>\n",
       "      <td>11.856285</td>\n",
       "      <td>7.855474</td>\n",
       "      <td>5.375022</td>\n",
       "      <td>4.009247</td>\n",
       "      <td>3.073996</td>\n",
       "      <td>2.75</td>\n",
       "      <td>34.028179</td>\n",
       "    </tr>\n",
       "    <tr>\n",
       "      <th>01/01/2019 01:23:15</th>\n",
       "      <td>6.211434</td>\n",
       "      <td>8.151202</td>\n",
       "      <td>7.205716</td>\n",
       "      <td>6.917541</td>\n",
       "      <td>7.316759</td>\n",
       "      <td>6.429595</td>\n",
       "      <td>2.136229</td>\n",
       "      <td>4</td>\n",
       "      <td>1463.295898</td>\n",
       "      <td>20.079947</td>\n",
       "      <td>11.247037</td>\n",
       "      <td>7.313984</td>\n",
       "      <td>4.964491</td>\n",
       "      <td>3.655787</td>\n",
       "      <td>2.787378</td>\n",
       "      <td>2.50</td>\n",
       "      <td>34.030140</td>\n",
       "    </tr>\n",
       "    <tr>\n",
       "      <th>01/01/2019 01:24:36</th>\n",
       "      <td>5.396618</td>\n",
       "      <td>7.666709</td>\n",
       "      <td>6.767735</td>\n",
       "      <td>6.407474</td>\n",
       "      <td>6.441339</td>\n",
       "      <td>5.923056</td>\n",
       "      <td>1.879329</td>\n",
       "      <td>4</td>\n",
       "      <td>1463.044434</td>\n",
       "      <td>20.103851</td>\n",
       "      <td>11.270432</td>\n",
       "      <td>7.330319</td>\n",
       "      <td>4.972833</td>\n",
       "      <td>3.660301</td>\n",
       "      <td>2.788233</td>\n",
       "      <td>2.50</td>\n",
       "      <td>34.030140</td>\n",
       "    </tr>\n",
       "    <tr>\n",
       "      <th>01/01/2019 01:26:17</th>\n",
       "      <td>6.435756</td>\n",
       "      <td>8.778601</td>\n",
       "      <td>7.812439</td>\n",
       "      <td>7.176302</td>\n",
       "      <td>7.097075</td>\n",
       "      <td>6.686953</td>\n",
       "      <td>2.144244</td>\n",
       "      <td>4</td>\n",
       "      <td>1464.864746</td>\n",
       "      <td>20.099497</td>\n",
       "      <td>11.268517</td>\n",
       "      <td>7.324177</td>\n",
       "      <td>4.970414</td>\n",
       "      <td>3.659725</td>\n",
       "      <td>2.788233</td>\n",
       "      <td>2.50</td>\n",
       "      <td>34.030140</td>\n",
       "    </tr>\n",
       "  </tbody>\n",
       "</table>\n",
       "</div>"
      ],
      "text/plain": [
       "                          pf1       pf2       pf3       pf4       pf5  \\\n",
       "Date                                                                    \n",
       "01/01/2019 01:19:24  7.289175  7.428041  6.730653  7.056374  6.950488   \n",
       "01/01/2019 01:20:44  7.836250  7.648174  7.337168  7.625006  7.238607   \n",
       "01/01/2019 01:23:15  6.211434  8.151202  7.205716  6.917541  7.316759   \n",
       "01/01/2019 01:24:36  5.396618  7.666709  6.767735  6.407474  6.441339   \n",
       "01/01/2019 01:26:17  6.435756  8.778601  7.812439  7.176302  7.097075   \n",
       "\n",
       "                          pf6       pf7  metal         larg    esort_1  \\\n",
       "Date                                                                     \n",
       "01/01/2019 01:19:24  6.168378  2.372457      4  1560.737305  19.875496   \n",
       "01/01/2019 01:20:44  6.410951  2.302351      4  1514.797119  19.439274   \n",
       "01/01/2019 01:23:15  6.429595  2.136229      4  1463.295898  20.079947   \n",
       "01/01/2019 01:24:36  5.923056  1.879329      4  1463.044434  20.103851   \n",
       "01/01/2019 01:26:17  6.686953  2.144244      4  1464.864746  20.099497   \n",
       "\n",
       "                       esort_2   esort_3   esort_4   esort_5   esort_6  \\\n",
       "Date                                                                     \n",
       "01/01/2019 01:19:24  12.323304  8.256593  5.715446  4.297836  3.329766   \n",
       "01/01/2019 01:20:44  11.856285  7.855474  5.375022  4.009247  3.073996   \n",
       "01/01/2019 01:23:15  11.247037  7.313984  4.964491  3.655787  2.787378   \n",
       "01/01/2019 01:24:36  11.270432  7.330319  4.972833  3.660301  2.788233   \n",
       "01/01/2019 01:26:17  11.268517  7.324177  4.970414  3.659725  2.788233   \n",
       "\n",
       "                     esort_7   epentr_1  \n",
       "Date                                     \n",
       "01/01/2019 01:19:24     3.00  34.026127  \n",
       "01/01/2019 01:20:44     2.75  34.028179  \n",
       "01/01/2019 01:23:15     2.50  34.030140  \n",
       "01/01/2019 01:24:36     2.50  34.030140  \n",
       "01/01/2019 01:26:17     2.50  34.030140  "
      ]
     },
     "execution_count": 54,
     "metadata": {},
     "output_type": "execute_result"
    }
   ],
   "source": [
    "data.head()"
   ]
  },
  {
   "cell_type": "code",
   "execution_count": 62,
   "metadata": {},
   "outputs": [],
   "source": [
    "from sklearn.linear_model import LinearRegression\n",
    "\n",
    "dico_model = dict()\n",
    "\n",
    "dico_model['model_f1'] = LinearRegression().fit(X=data[['larg','epentr_1','esort_1']],y=data['pf1'])\n",
    "dico_model['model_f2'] = LinearRegression().fit(X=data[['larg','esort_1','esort_2']],y=data['pf2'])\n",
    "dico_model['model_f3'] = LinearRegression().fit(X=data[['larg','esort_2','esort_3']],y=data['pf3'])\n",
    "dico_model['model_f4'] = LinearRegression().fit(X=data[['larg','esort_3','esort_4']],y=data['pf4'])\n",
    "dico_model['model_f5'] = LinearRegression().fit(X=data[['larg','esort_4','esort_5']],y=data['pf5'])\n",
    "dico_model['model_f6'] = LinearRegression().fit(X=data[['larg','esort_5','esort_6']],y=data['pf6'])\n",
    "dico_model['model_f7'] = LinearRegression().fit(X=data[['larg','esort_6','esort_7']],y=data['pf7'])\n"
   ]
  },
  {
   "cell_type": "code",
   "execution_count": 90,
   "metadata": {},
   "outputs": [],
   "source": [
    "dico_model_coefs = dict()\n",
    "\n",
    "\n",
    "for mod in dico_model.keys():\n",
    "    fact_name  = dico_model[mod].feature_names_in_.tolist()\n",
    "    coef_value = dico_model[mod].coef_\n",
    "    dico_coef  = {f: c for f,c in zip(fact_name,coef_value)}\n",
    "    dico_coef['intercept'] = dico_model[mod].intercept_\n",
    "    dico_model_coefs[mod] = dico_coef"
   ]
  },
  {
   "cell_type": "code",
   "execution_count": 92,
   "metadata": {},
   "outputs": [],
   "source": [
    "import pickle \n",
    "  \n",
    "  \n",
    "try: \n",
    "    geeky_file = open('dico_model_coefs', 'wb') \n",
    "    pickle.dump(dico_model_coefs, geeky_file) \n",
    "    geeky_file.close() \n",
    "  \n",
    "except: \n",
    "    print(\"Something went wrong\")"
   ]
  },
  {
   "cell_type": "code",
   "execution_count": 84,
   "metadata": {},
   "outputs": [],
   "source": [
    "dico_coef_global = {key: 0.0 for key in list_all_var}\n",
    "dico_coef_global['intercept'] = 0.0"
   ]
  },
  {
   "cell_type": "code",
   "execution_count": 85,
   "metadata": {},
   "outputs": [],
   "source": [
    "\n",
    "for mod in dico_model.keys():\n",
    "    fact_name  = dico_model[mod].feature_names_in_.tolist()\n",
    "    coef_value = dico_model[mod].coef_\n",
    "    #dico_coef = {f: c for f,c in zip(fact_name,coef_value)}\n",
    "\n",
    "    for f,c in zip(fact_name,coef_value):\n",
    "        dico_coef_global[f] +=  c\n",
    "    dico_coef_global['intercept'] += dico_model[mod].intercept_\n"
   ]
  },
  {
   "cell_type": "code",
   "execution_count": 87,
   "metadata": {},
   "outputs": [],
   "source": [
    "import pickle \n",
    "  \n",
    "  \n",
    "try: \n",
    "    geeky_file = open('dico_coef', 'wb') \n",
    "    pickle.dump(dico_coef_global, geeky_file) \n",
    "    geeky_file.close() \n",
    "  \n",
    "except: \n",
    "    print(\"Something went wrong\")"
   ]
  },
  {
   "cell_type": "code",
   "execution_count": 88,
   "metadata": {},
   "outputs": [],
   "source": [
    "data.to_pickle('data.pkl')"
   ]
  },
  {
   "cell_type": "code",
   "execution_count": 61,
   "metadata": {},
   "outputs": [
    {
     "data": {
      "text/plain": [
       "0.8150145720906254"
      ]
     },
     "execution_count": 61,
     "metadata": {},
     "output_type": "execute_result"
    }
   ],
   "source": [
    "model_f5.score(X=data[['larg','esort_4','esort_5']],y=data['pf5'])"
   ]
  }
 ],
 "metadata": {
  "kernelspec": {
   "display_name": "Python 3",
   "language": "python",
   "name": "python3"
  },
  "language_info": {
   "codemirror_mode": {
    "name": "ipython",
    "version": 3
   },
   "file_extension": ".py",
   "mimetype": "text/x-python",
   "name": "python",
   "nbconvert_exporter": "python",
   "pygments_lexer": "ipython3",
   "version": "3.10.11"
  }
 },
 "nbformat": 4,
 "nbformat_minor": 2
}
