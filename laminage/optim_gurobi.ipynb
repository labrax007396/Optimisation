{
 "cells": [
  {
   "cell_type": "code",
   "execution_count": 74,
   "metadata": {},
   "outputs": [],
   "source": [
    "import pickle \n",
    "import pandas as pd\n",
    "\n",
    "dbfile = open('dico_coef', 'rb')    \n",
    "dico_coef_global = pickle.load(dbfile)\n",
    "\n",
    "dbfile = open('dico_model_coefs', 'rb')    \n",
    "dico_model_coefs = pickle.load(dbfile)\n",
    "\n",
    "data = pd.read_pickle('data.pkl')"
   ]
  },
  {
   "cell_type": "code",
   "execution_count": 7,
   "metadata": {},
   "outputs": [],
   "source": [
    "import gurobipy as gp\n",
    "from gurobipy import GRB"
   ]
  },
  {
   "cell_type": "code",
   "execution_count": 75,
   "metadata": {},
   "outputs": [],
   "source": [
    "var_dec = list(dico_coef_global.keys())\n",
    "var_dec.remove('epentr_1')\n",
    "var_dec.remove('larg')\n",
    "var_dec.remove('intercept')\n",
    "var_dec.remove('esort_7')\n",
    "\n",
    "\n"
   ]
  },
  {
   "cell_type": "code",
   "execution_count": 76,
   "metadata": {},
   "outputs": [],
   "source": [
    "data = data[data.index>=\"31/12/2024 10:21:49\"]\n",
    "date_id = \"31/12/2024 16:55:44\"\n",
    "ep_entree = data.loc[date_id,'epentr_1']\n",
    "larg      = data.loc[date_id,'larg']\n",
    "esort     = data.loc[date_id,'esort_7']"
   ]
  },
  {
   "cell_type": "markdown",
   "metadata": {},
   "source": [
    "## Variable de décision"
   ]
  },
  {
   "cell_type": "code",
   "execution_count": 102,
   "metadata": {},
   "outputs": [],
   "source": [
    "m = gp.Model('laminage')\n",
    "x = {}\n",
    "\n",
    "for v in var_dec:\n",
    "    x[v] = m.addVar(name = v)\n",
    "\n",
    "m.update()"
   ]
  },
  {
   "cell_type": "markdown",
   "metadata": {},
   "source": [
    "## Fonction objectif"
   ]
  },
  {
   "cell_type": "code",
   "execution_count": 103,
   "metadata": {},
   "outputs": [],
   "source": [
    "m.setObjective(gp.quicksum(dico_coef_global[e]*x[e] for e in var_dec)+\n",
    "               dico_coef_global['epentr_1']*ep_entree+\n",
    "               dico_coef_global['larg']*larg+\n",
    "               dico_coef_global['esort_7']*esort+\n",
    "               dico_coef_global['intercept'], GRB.MINIMIZE)"
   ]
  },
  {
   "cell_type": "markdown",
   "metadata": {},
   "source": [
    "## Contraintes"
   ]
  },
  {
   "cell_type": "code",
   "execution_count": 104,
   "metadata": {},
   "outputs": [],
   "source": [
    "epsilon = 0.00000001\n",
    "\n",
    "esort1_ct = m.addConstr(x['esort_1'] <= ep_entree*(1.0-0.25), name='esort1_ct')\n",
    "esort2_ct = m.addConstr(x['esort_2']<=x['esort_1']*(1.0-0.25), name='esort2_ct')\n",
    "esort3_ct = m.addConstr(x['esort_3']<=x['esort_2']*(1.0-0.25), name='esort3_ct')\n",
    "esort4_ct = m.addConstr(x['esort_4']<=x['esort_3']*(1.0-0.25), name='esort4_ct')\n",
    "esort5_ct = m.addConstr(x['esort_5']<=x['esort_4']*(1.0-0.25), name='esort5_ct')\n",
    "esort6_ct = m.addConstr(x['esort_6']<=x['esort_5']*(1.0-0.25), name='esort6_ct')\n",
    "\n",
    "esort6_ct2 = m.addConstr(x['esort_6']>=esort+epsilon, name='esort6_ct2')\n",
    "\n"
   ]
  },
  {
   "cell_type": "markdown",
   "metadata": {},
   "source": [
    "### Contraintes sur les puissance maximales des equipements"
   ]
  },
  {
   "cell_type": "code",
   "execution_count": 105,
   "metadata": {},
   "outputs": [],
   "source": [
    "pmax = dict()\n",
    "\n",
    "pmax['f1'] = 10.5\n",
    "pmax['f2'] = 12.0\n",
    "pmax['f3'] = 12.5\n",
    "pmax['f4'] = 11.0\n",
    "pmax['f5'] = 12.9\n",
    "pmax['f6'] = 10.6\n",
    "pmax['f7'] = 5.5\n",
    "\n",
    "\n",
    "\n",
    "pmax_ct_1 = m.addConstr(dico_model_coefs['model_f1']['larg']*larg + \n",
    "                        dico_model_coefs['model_f1']['epentr_1']*ep_entree + \n",
    "                        dico_model_coefs['model_f1']['esort_1']*x['esort_1'] + \n",
    "                        dico_model_coefs['model_f1']['intercept'] <= pmax['f1'], name='pmax_f1')\n",
    "\n",
    "\n",
    "pmax_ct_2 = m.addConstr(dico_model_coefs['model_f2']['larg']*larg + \n",
    "                        dico_model_coefs['model_f2']['esort_1']*x['esort_1'] + \n",
    "                        dico_model_coefs['model_f2']['esort_2']*x['esort_2'] + \n",
    "                        dico_model_coefs['model_f2']['intercept'] <= pmax['f2'], name='pmax_f2')\n",
    "\n",
    "pmax_ct_3 = m.addConstr(dico_model_coefs['model_f3']['larg']*larg + \n",
    "                        dico_model_coefs['model_f3']['esort_2']*x['esort_2'] + \n",
    "                        dico_model_coefs['model_f3']['esort_3']*x['esort_3'] + \n",
    "                        dico_model_coefs['model_f3']['intercept'] <= pmax['f3'], name='pmax_f3')\n",
    "\n",
    "\n",
    "pmax_ct_4 = m.addConstr(dico_model_coefs['model_f4']['larg']*larg + \n",
    "                        dico_model_coefs['model_f4']['esort_3']*x['esort_3'] + \n",
    "                        dico_model_coefs['model_f4']['esort_4']*x['esort_4'] + \n",
    "                        dico_model_coefs['model_f4']['intercept'] <= pmax['f4'], name='pmax_f4')\n",
    "\n",
    "\n",
    "pmax_ct_5 = m.addConstr(dico_model_coefs['model_f5']['larg']*larg + \n",
    "                        dico_model_coefs['model_f5']['esort_5']*x['esort_5'] + \n",
    "                        dico_model_coefs['model_f5']['esort_4']*x['esort_4'] + \n",
    "                        dico_model_coefs['model_f5']['intercept'] <= pmax['f5'], name='pmax_f5')\n",
    "\n",
    "\n",
    "pmax_ct_6 = m.addConstr(dico_model_coefs['model_f6']['larg']*larg + \n",
    "                        dico_model_coefs['model_f6']['esort_5']*x['esort_5'] + \n",
    "                        dico_model_coefs['model_f6']['esort_6']*x['esort_6'] + \n",
    "                        dico_model_coefs['model_f6']['intercept'] <= pmax['f6'], name='pmax_f6')\n",
    "\n",
    "\n",
    "pmax_ct_7 = m.addConstr(dico_model_coefs['model_f7']['larg']*larg + \n",
    "                        dico_model_coefs['model_f7']['esort_7']*esort + \n",
    "                        dico_model_coefs['model_f7']['esort_6']*x['esort_6'] + \n",
    "                        dico_model_coefs['model_f7']['intercept'] <= pmax['f7'], name='pmax_f7')\n",
    "\n",
    "\n",
    "\n"
   ]
  },
  {
   "cell_type": "code",
   "execution_count": 106,
   "metadata": {},
   "outputs": [],
   "source": [
    "#m.getObjective().addConstant(dico_coef_global['epentr_1']*ep_entree)\n",
    "\n",
    "m.update()"
   ]
  },
  {
   "cell_type": "code",
   "execution_count": 107,
   "metadata": {},
   "outputs": [],
   "source": [
    "m.write('laminage.lp')"
   ]
  },
  {
   "cell_type": "code",
   "execution_count": 108,
   "metadata": {},
   "outputs": [
    {
     "name": "stdout",
     "output_type": "stream",
     "text": [
      "Gurobi Optimizer version 12.0.0 build v12.0.0rc1 (win64 - Windows 10.0 (19045.2))\n",
      "\n",
      "CPU model: AMD Ryzen 7 4800H with Radeon Graphics, instruction set [SSE2|AVX|AVX2]\n",
      "Thread count: 8 physical cores, 16 logical processors, using up to 16 threads\n",
      "\n",
      "Optimize a model with 14 rows, 6 columns and 24 nonzeros\n",
      "Model fingerprint: 0xc533e0f9\n",
      "Coefficient statistics:\n",
      "  Matrix range     [3e-01, 4e+00]\n",
      "  Objective range  [7e-02, 9e-01]\n",
      "  Bounds range     [0e+00, 0e+00]\n",
      "  RHS range        [1e+00, 3e+01]\n",
      "Presolve removed 7 rows and 0 columns\n",
      "Presolve time: 0.00s\n",
      "Presolved: 7 rows, 6 columns, 20 nonzeros\n",
      "\n",
      "Iteration    Objective       Primal Inf.    Dual Inf.      Time\n",
      "       0   -2.5427645e+29   8.571787e+29   2.542764e-01      0s\n",
      "       4    4.0611241e+01   0.000000e+00   0.000000e+00      0s\n",
      "\n",
      "Solved in 4 iterations and 0.01 seconds (0.00 work units)\n",
      "Optimal objective  4.061124098e+01\n"
     ]
    }
   ],
   "source": [
    "m.optimize()"
   ]
  },
  {
   "cell_type": "code",
   "execution_count": 109,
   "metadata": {},
   "outputs": [],
   "source": [
    "all_vars = {v.varName: v.x for v in m.getVars()}"
   ]
  },
  {
   "cell_type": "code",
   "execution_count": 110,
   "metadata": {},
   "outputs": [
    {
     "data": {
      "text/plain": [
       "{'esort_4': 4.444444462222222,\n",
       " 'esort_6': 2.50000001,\n",
       " 'esort_1': 10.53497946600823,\n",
       " 'esort_2': 7.901234599506172,\n",
       " 'esort_5': 3.3333333466666666,\n",
       " 'esort_3': 5.9259259496296295}"
      ]
     },
     "execution_count": 110,
     "metadata": {},
     "output_type": "execute_result"
    }
   ],
   "source": [
    "all_vars"
   ]
  },
  {
   "cell_type": "code",
   "execution_count": 114,
   "metadata": {},
   "outputs": [
    {
     "data": {
      "text/plain": [
       "8.799006703283169"
      ]
     },
     "execution_count": 114,
     "metadata": {},
     "output_type": "execute_result"
    }
   ],
   "source": [
    "dico_model_coefs['model_f1']['larg']*larg +dico_model_coefs['model_f1']['epentr_1']*ep_entree +dico_model_coefs['model_f1']['esort_1']*10.53497946600823 +dico_model_coefs['model_f1']['intercept']"
   ]
  },
  {
   "cell_type": "code",
   "execution_count": 116,
   "metadata": {},
   "outputs": [
    {
     "data": {
      "text/plain": [
       "46.910000000000004"
      ]
     },
     "execution_count": 116,
     "metadata": {},
     "output_type": "execute_result"
    }
   ],
   "source": [
    "7.33+8+7.38+7.31+7.32+6.35+3.22"
   ]
  },
  {
   "cell_type": "code",
   "execution_count": 115,
   "metadata": {},
   "outputs": [
    {
     "data": {
      "text/plain": [
       "pf1            7.324940\n",
       "pf2            7.995752\n",
       "pf3            7.371256\n",
       "pf4            7.311965\n",
       "pf5            7.320080\n",
       "pf6            6.352902\n",
       "pf7            3.228271\n",
       "metal          4.000000\n",
       "larg        1463.236900\n",
       "esort_1       20.027542\n",
       "esort_2       11.692580\n",
       "esort_3        7.639256\n",
       "esort_4        5.044345\n",
       "esort_5        3.751749\n",
       "esort_6        2.855336\n",
       "esort_7        2.500000\n",
       "epentr_1      34.000000\n",
       "Name: 31/12/2024 16:55:44, dtype: float64"
      ]
     },
     "execution_count": 115,
     "metadata": {},
     "output_type": "execute_result"
    }
   ],
   "source": [
    "data.loc[date_id]"
   ]
  }
 ],
 "metadata": {
  "kernelspec": {
   "display_name": "Python 3",
   "language": "python",
   "name": "python3"
  },
  "language_info": {
   "codemirror_mode": {
    "name": "ipython",
    "version": 3
   },
   "file_extension": ".py",
   "mimetype": "text/x-python",
   "name": "python",
   "nbconvert_exporter": "python",
   "pygments_lexer": "ipython3",
   "version": "3.10.11"
  }
 },
 "nbformat": 4,
 "nbformat_minor": 2
}
