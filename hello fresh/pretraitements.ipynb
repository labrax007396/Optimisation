{
 "cells": [
  {
   "cell_type": "markdown",
   "metadata": {},
   "source": [
    "## Lecture du réseau routier"
   ]
  },
  {
   "cell_type": "code",
   "execution_count": 1,
   "metadata": {},
   "outputs": [
    {
     "name": "stderr",
     "output_type": "stream",
     "text": [
      "c:\\Users\\David\\Optim\\Optimisation\\.venv\\lib\\site-packages\\tqdm\\auto.py:21: TqdmWarning: IProgress not found. Please update jupyter and ipywidgets. See https://ipywidgets.readthedocs.io/en/stable/user_install.html\n",
      "  from .autonotebook import tqdm as notebook_tqdm\n"
     ]
    }
   ],
   "source": [
    "import geopandas as gpd\n",
    "import momepy\n",
    "import networkx as nx\n",
    "\n",
    "file_reseau = \"C:/Users/David/Optim/Optimisation/donnees/Troncon route Pacy et environ.shx\"\n",
    "\n",
    "# Lire le shapefile avec GeoPandas\n",
    "gdf = gpd.read_file(file_reseau)\n",
    "# Vérifier que la géométrie contient des LineStrings\n",
    "if not all(gdf.geometry.type.isin([\"LineString\", \"MultiLineString\"])):\n",
    "    raise ValueError(\"Le fichier doit contenir uniquement des lignes.\")\n",
    "\n",
    "\n",
    "# Convertir en graphe avec la méthode 'primal' (chaque intersection est un nœud)\n",
    "g_reseau = momepy.gdf_to_nx(gdf, approach='primal')\n"
   ]
  },
  {
   "cell_type": "markdown",
   "metadata": {},
   "source": [
    "## Lecture fichier points de livraision"
   ]
  },
  {
   "cell_type": "code",
   "execution_count": 2,
   "metadata": {},
   "outputs": [],
   "source": [
    "file_livr = \"C:/Users/David/Optim/Optimisation/donnees/Points livraison.shx\"\n",
    "\n",
    "# Lire le shapefile avec GeoPandas\n",
    "points_livr = gpd.read_file(file_livr)"
   ]
  },
  {
   "cell_type": "markdown",
   "metadata": {},
   "source": [
    "## Recherche des points du réseau les plus près des points de livraison"
   ]
  },
  {
   "cell_type": "code",
   "execution_count": 3,
   "metadata": {},
   "outputs": [],
   "source": [
    "nodes_livr = points_livr.geometry.get_coordinates()\n",
    "nodes_livr['type'] = points_livr['type']"
   ]
  },
  {
   "cell_type": "code",
   "execution_count": 7,
   "metadata": {},
   "outputs": [
    {
     "data": {
      "text/html": [
       "<div>\n",
       "<style scoped>\n",
       "    .dataframe tbody tr th:only-of-type {\n",
       "        vertical-align: middle;\n",
       "    }\n",
       "\n",
       "    .dataframe tbody tr th {\n",
       "        vertical-align: top;\n",
       "    }\n",
       "\n",
       "    .dataframe thead th {\n",
       "        text-align: right;\n",
       "    }\n",
       "</style>\n",
       "<table border=\"1\" class=\"dataframe\">\n",
       "  <thead>\n",
       "    <tr style=\"text-align: right;\">\n",
       "      <th></th>\n",
       "      <th>x</th>\n",
       "      <th>y</th>\n",
       "      <th>type</th>\n",
       "    </tr>\n",
       "  </thead>\n",
       "  <tbody>\n",
       "    <tr>\n",
       "      <th>0</th>\n",
       "      <td>583009.585282</td>\n",
       "      <td>6.880014e+06</td>\n",
       "      <td>depart</td>\n",
       "    </tr>\n",
       "    <tr>\n",
       "      <th>1</th>\n",
       "      <td>581803.833593</td>\n",
       "      <td>6.880498e+06</td>\n",
       "      <td>c1</td>\n",
       "    </tr>\n",
       "    <tr>\n",
       "      <th>2</th>\n",
       "      <td>581601.060453</td>\n",
       "      <td>6.880422e+06</td>\n",
       "      <td>c2</td>\n",
       "    </tr>\n",
       "    <tr>\n",
       "      <th>3</th>\n",
       "      <td>581520.767733</td>\n",
       "      <td>6.880556e+06</td>\n",
       "      <td>c3</td>\n",
       "    </tr>\n",
       "    <tr>\n",
       "      <th>4</th>\n",
       "      <td>581383.317484</td>\n",
       "      <td>6.880660e+06</td>\n",
       "      <td>c5</td>\n",
       "    </tr>\n",
       "    <tr>\n",
       "      <th>5</th>\n",
       "      <td>581331.603529</td>\n",
       "      <td>6.880862e+06</td>\n",
       "      <td>c5</td>\n",
       "    </tr>\n",
       "    <tr>\n",
       "      <th>6</th>\n",
       "      <td>581247.228129</td>\n",
       "      <td>6.881116e+06</td>\n",
       "      <td>c7</td>\n",
       "    </tr>\n",
       "    <tr>\n",
       "      <th>7</th>\n",
       "      <td>581584.729730</td>\n",
       "      <td>6.880942e+06</td>\n",
       "      <td>c9</td>\n",
       "    </tr>\n",
       "    <tr>\n",
       "      <th>8</th>\n",
       "      <td>581777.976615</td>\n",
       "      <td>6.880784e+06</td>\n",
       "      <td>c10</td>\n",
       "    </tr>\n",
       "    <tr>\n",
       "      <th>9</th>\n",
       "      <td>582001.163158</td>\n",
       "      <td>6.880950e+06</td>\n",
       "      <td>c12</td>\n",
       "    </tr>\n",
       "    <tr>\n",
       "      <th>10</th>\n",
       "      <td>581821.525209</td>\n",
       "      <td>6.881323e+06</td>\n",
       "      <td>c13</td>\n",
       "    </tr>\n",
       "    <tr>\n",
       "      <th>11</th>\n",
       "      <td>582066.486049</td>\n",
       "      <td>6.881078e+06</td>\n",
       "      <td>c15</td>\n",
       "    </tr>\n",
       "    <tr>\n",
       "      <th>12</th>\n",
       "      <td>582139.974301</td>\n",
       "      <td>6.881236e+06</td>\n",
       "      <td>c17</td>\n",
       "    </tr>\n",
       "    <tr>\n",
       "      <th>13</th>\n",
       "      <td>582442.092670</td>\n",
       "      <td>6.881214e+06</td>\n",
       "      <td>c18</td>\n",
       "    </tr>\n",
       "    <tr>\n",
       "      <th>14</th>\n",
       "      <td>582472.032328</td>\n",
       "      <td>6.880882e+06</td>\n",
       "      <td>c19</td>\n",
       "    </tr>\n",
       "    <tr>\n",
       "      <th>15</th>\n",
       "      <td>582126.365365</td>\n",
       "      <td>6.880765e+06</td>\n",
       "      <td>c21</td>\n",
       "    </tr>\n",
       "  </tbody>\n",
       "</table>\n",
       "</div>"
      ],
      "text/plain": [
       "                x             y    type\n",
       "0   583009.585282  6.880014e+06  depart\n",
       "1   581803.833593  6.880498e+06      c1\n",
       "2   581601.060453  6.880422e+06      c2\n",
       "3   581520.767733  6.880556e+06      c3\n",
       "4   581383.317484  6.880660e+06      c5\n",
       "5   581331.603529  6.880862e+06      c5\n",
       "6   581247.228129  6.881116e+06      c7\n",
       "7   581584.729730  6.880942e+06      c9\n",
       "8   581777.976615  6.880784e+06     c10\n",
       "9   582001.163158  6.880950e+06     c12\n",
       "10  581821.525209  6.881323e+06     c13\n",
       "11  582066.486049  6.881078e+06     c15\n",
       "12  582139.974301  6.881236e+06     c17\n",
       "13  582442.092670  6.881214e+06     c18\n",
       "14  582472.032328  6.880882e+06     c19\n",
       "15  582126.365365  6.880765e+06     c21"
      ]
     },
     "execution_count": 7,
     "metadata": {},
     "output_type": "execute_result"
    }
   ],
   "source": [
    "nodes_livr"
   ]
  },
  {
   "cell_type": "code",
   "execution_count": 19,
   "metadata": {},
   "outputs": [],
   "source": [
    "def type_point_reseau(g_reseau,nodes_livr):\n",
    "\n",
    "    import numpy as np\n",
    "    nodes_list = list(g_reseau.nodes)\n",
    "    dico_attribut_nodes = dict()\n",
    "    capitals = list()\n",
    "    coordinates = dict()\n",
    "\n",
    "    for idx, row in nodes_livr.iterrows():\n",
    "        x_liv = row['x']\n",
    "        y_liv = row['y']\n",
    "                \n",
    "        nearest_node = nodes_list[0]\n",
    "        X = nearest_node[0]\n",
    "        Y = nearest_node[1]\n",
    "        capitals.append(row['type'])\n",
    "\n",
    "\n",
    "        d_nearest = np.sqrt((x_liv-X)**2 + (y_liv-Y)**2)\n",
    "\n",
    "        for n in nodes_list[1:]:\n",
    "            X = n[0]\n",
    "            Y = n[1]\n",
    "\n",
    "            d = np.sqrt((x_liv-X)**2 + (y_liv-Y)**2)\n",
    "            if d < d_nearest:\n",
    "                nearest_node = n\n",
    "                d_nearest = d\n",
    "\n",
    "        coordinates[row['type']] = nearest_node\n",
    "        \n",
    "        dico_attribut_nodes[nearest_node] = {'type':row['type']}\n",
    "\n",
    "    for n in nodes_list:\n",
    "        if n not in dico_attribut_nodes.keys():\n",
    "            dico_attribut_nodes[n] = {'type':'interieur'}   \n",
    "\n",
    "        \n",
    "    return dico_attribut_nodes,capitals, coordinates\n",
    "\n",
    "        "
   ]
  },
  {
   "cell_type": "code",
   "execution_count": 20,
   "metadata": {},
   "outputs": [],
   "source": [
    "dico_attribut_nodes,capitals, coordinates = type_point_reseau(g_reseau,nodes_livr)\n",
    "nx.set_node_attributes(g_reseau, dico_attribut_nodes)"
   ]
  },
  {
   "cell_type": "code",
   "execution_count": 21,
   "metadata": {},
   "outputs": [
    {
     "data": {
      "text/plain": [
       "{'depart': (583016.0, 6880004.5),\n",
       " 'c1': (581880.5, 6880578.6),\n",
       " 'c2': (581517.5, 6880556.7),\n",
       " 'c3': (581517.5, 6880556.7),\n",
       " 'c5': (581327.1, 6880858.1),\n",
       " 'c7': (581245.2, 6881119.6),\n",
       " 'c9': (581574.6, 6880937.0),\n",
       " 'c10': (581767.2, 6880784.4),\n",
       " 'c12': (581998.5, 6880952.4),\n",
       " 'c13': (581816.7, 6881326.7),\n",
       " 'c15': (582059.5, 6881069.8),\n",
       " 'c17': (582137.8, 6881233.1),\n",
       " 'c18': (582427.2, 6881219.0),\n",
       " 'c19': (582468.8, 6880882.5),\n",
       " 'c21': (582121.8, 6880761.5)}"
      ]
     },
     "execution_count": 21,
     "metadata": {},
     "output_type": "execute_result"
    }
   ],
   "source": [
    "coordinates"
   ]
  },
  {
   "cell_type": "markdown",
   "metadata": {},
   "source": [
    "## Calcul des distances entre chaque points"
   ]
  },
  {
   "cell_type": "code",
   "execution_count": null,
   "metadata": {},
   "outputs": [],
   "source": [
    "short_path = nx.shortest_path(g_reseau, source=coordinates['depart'], target=coordinates['c2'])\n",
    "length_path = 0.0\n",
    "\n",
    "for p , c in enumerate(short_path[:-1]):\n",
    "    edge_data = g_reseau.get_edge_data(short_path[p],short_path[p+1])\n",
    "    length_path += edge_data[0]['LONGUEUR']\n"
   ]
  },
  {
   "cell_type": "code",
   "execution_count": 43,
   "metadata": {},
   "outputs": [],
   "source": [
    "import math\n",
    "from itertools import combinations\n",
    "\n",
    "# Compute pairwise distance matrix\n",
    "\n",
    "def distance(liv1, liv2):\n",
    "    c1 = coordinates[liv1]\n",
    "    c2 = coordinates[liv2]\n",
    "\n",
    "    short_path = nx.shortest_path(g_reseau, source=c1, target=c2)\n",
    "    length_path = 0.0\n",
    "\n",
    "    for p , c in enumerate(short_path[:-1]):\n",
    "        edge_data = g_reseau.get_edge_data(short_path[p],short_path[p+1])\n",
    "        length_path += edge_data[0]['LONGUEUR']\n",
    "\n",
    "\n",
    "\n",
    "    return length_path\n",
    "\n",
    "dist = {(c1, c2): distance(c1, c2) for c1, c2 in combinations(capitals, 2)}"
   ]
  }
 ],
 "metadata": {
  "kernelspec": {
   "display_name": ".venv",
   "language": "python",
   "name": "python3"
  },
  "language_info": {
   "codemirror_mode": {
    "name": "ipython",
    "version": 3
   },
   "file_extension": ".py",
   "mimetype": "text/x-python",
   "name": "python",
   "nbconvert_exporter": "python",
   "pygments_lexer": "ipython3",
   "version": "3.10.0"
  }
 },
 "nbformat": 4,
 "nbformat_minor": 2
}
