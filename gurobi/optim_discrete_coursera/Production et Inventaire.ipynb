{
 "cells": [
  {
   "cell_type": "code",
   "execution_count": 1,
   "metadata": {},
   "outputs": [],
   "source": [
    "import numpy as np\n",
    "import pandas as pd\n",
    "\n",
    "import gurobipy as gp\n",
    "from gurobipy import GRB"
   ]
  },
  {
   "cell_type": "code",
   "execution_count": 38,
   "metadata": {},
   "outputs": [],
   "source": [
    "Prod = [1,2,3,4]\n",
    "\n",
    "Inventory = [1,2,3,4]\n",
    "Day = [1,2,3,4]"
   ]
  },
  {
   "cell_type": "code",
   "execution_count": 39,
   "metadata": {},
   "outputs": [],
   "source": [
    "model = gp.Model(\"production\")\n",
    "P = model.addVars(Prod, lb=0, vtype=GRB.INTEGER) \n",
    "I = model.addVars(Inventory, lb=0, vtype=GRB.INTEGER) \n"
   ]
  },
  {
   "cell_type": "code",
   "execution_count": 19,
   "metadata": {},
   "outputs": [
    {
     "data": {
      "text/plain": [
       "<gurobi.Var *Awaiting Model Update*>"
      ]
     },
     "execution_count": 19,
     "metadata": {},
     "output_type": "execute_result"
    }
   ],
   "source": [
    "I[4]"
   ]
  },
  {
   "cell_type": "code",
   "execution_count": 40,
   "metadata": {},
   "outputs": [
    {
     "data": {
      "text/plain": [
       "<gurobi.Constr *Awaiting Model Update*>"
      ]
     },
     "execution_count": 40,
     "metadata": {},
     "output_type": "execute_result"
    }
   ],
   "source": [
    "model.addConstr( P[1] -100 == I[1])\n",
    "model.addConstr( I[1] + P[2] -150 == I[2])\n",
    "model.addConstr( I[2] + P[3] -200 == I[3])\n",
    "model.addConstr( I[3] + P[4] -170 == I[4])\n"
   ]
  },
  {
   "cell_type": "code",
   "execution_count": 41,
   "metadata": {},
   "outputs": [],
   "source": [
    "Production_Cost = [9,12,10,13]\n",
    "Inv_Cost = 1"
   ]
  },
  {
   "cell_type": "code",
   "execution_count": 42,
   "metadata": {},
   "outputs": [],
   "source": [
    "model.setObjective(gp.quicksum( Production_Cost[d-1]*P[d] + Inv_Cost*I[d]  for d in [1,2,3,4]),GRB.MINIMIZE)"
   ]
  },
  {
   "cell_type": "code",
   "execution_count": 43,
   "metadata": {},
   "outputs": [
    {
     "name": "stdout",
     "output_type": "stream",
     "text": [
      "Gurobi Optimizer version 12.0.0 build v12.0.0rc1 (win64 - Windows 10.0 (19045.2))\n",
      "\n",
      "CPU model: AMD Ryzen 7 4800H with Radeon Graphics, instruction set [SSE2|AVX|AVX2]\n",
      "Thread count: 8 physical cores, 16 logical processors, using up to 16 threads\n",
      "\n",
      "Optimize a model with 4 rows, 8 columns and 11 nonzeros\n",
      "Model fingerprint: 0x416863ac\n",
      "Variable types: 0 continuous, 8 integer (0 binary)\n",
      "Coefficient statistics:\n",
      "  Matrix range     [1e+00, 1e+00]\n",
      "  Objective range  [1e+00, 1e+01]\n",
      "  Bounds range     [0e+00, 0e+00]\n",
      "  RHS range        [1e+02, 2e+02]\n",
      "Presolve removed 4 rows and 8 columns\n",
      "Presolve time: 0.00s\n",
      "Presolve: All rows and columns removed\n",
      "\n",
      "Explored 0 nodes (0 simplex iterations) in 0.01 seconds (0.00 work units)\n",
      "Thread count was 1 (of 16 available processors)\n",
      "\n",
      "Solution count 1: 6270 \n",
      "\n",
      "Optimal solution found (tolerance 1.00e-04)\n",
      "Best objective 6.270000000000e+03, best bound 6.270000000000e+03, gap 0.0000%\n"
     ]
    }
   ],
   "source": [
    "\n",
    "model.optimize()"
   ]
  },
  {
   "cell_type": "code",
   "execution_count": 35,
   "metadata": {},
   "outputs": [
    {
     "name": "stdout",
     "output_type": "stream",
     "text": [
      "250.0\n",
      "-0.0\n",
      "370.0\n",
      "-0.0\n"
     ]
    }
   ],
   "source": [
    "for d in Day:\n",
    " print(P[d].x)"
   ]
  },
  {
   "cell_type": "code",
   "execution_count": 44,
   "metadata": {},
   "outputs": [
    {
     "name": "stdout",
     "output_type": "stream",
     "text": [
      "150.0\n",
      "-0.0\n",
      "170.0\n",
      "-0.0\n"
     ]
    }
   ],
   "source": [
    "for d in Day:\n",
    "    print(I[d].x)"
   ]
  },
  {
   "cell_type": "code",
   "execution_count": 46,
   "metadata": {},
   "outputs": [
    {
     "data": {
      "text/plain": [
       "['Attr',\n",
       " 'BARHOMOGENEOUS_AUTO',\n",
       " 'BARHOMOGENEOUS_OFF',\n",
       " 'BARHOMOGENEOUS_ON',\n",
       " 'BARORDER_AMD',\n",
       " 'BARORDER_AUTOMATIC',\n",
       " 'BARORDER_NESTEDDISSECTION',\n",
       " 'BASIC',\n",
       " 'BATCH_ABORTED',\n",
       " 'BATCH_COMPLETED',\n",
       " 'BATCH_CREATED',\n",
       " 'BATCH_FAILED',\n",
       " 'BATCH_SUBMITTED',\n",
       " 'BINARY',\n",
       " 'CONTINUOUS',\n",
       " 'CUTOFF',\n",
       " 'CUTS_AGGRESSIVE',\n",
       " 'CUTS_AUTO',\n",
       " 'CUTS_CONSERVATIVE',\n",
       " 'CUTS_OFF',\n",
       " 'CUTS_VERYAGGRESSIVE',\n",
       " 'Callback',\n",
       " 'DEFAULT_CS_PORT',\n",
       " 'EQUAL',\n",
       " 'ERROR_CALLBACK',\n",
       " 'ERROR_CLOUD',\n",
       " 'ERROR_CSWORKER',\n",
       " 'ERROR_DATA_NOT_AVAILABLE',\n",
       " 'ERROR_DUPLICATES',\n",
       " 'ERROR_EXCEED_2B_NONZEROS',\n",
       " 'ERROR_FAILED_TO_CREATE_MODEL',\n",
       " 'ERROR_FILE_READ',\n",
       " 'ERROR_FILE_WRITE',\n",
       " 'ERROR_IIS_NOT_INFEASIBLE',\n",
       " 'ERROR_INDEX_OUT_OF_RANGE',\n",
       " 'ERROR_INTERNAL',\n",
       " 'ERROR_INVALID_ARGUMENT',\n",
       " 'ERROR_INVALID_PIECEWISE_OBJ',\n",
       " 'ERROR_JOB_REJECTED',\n",
       " 'ERROR_MODEL_MODIFICATION',\n",
       " 'ERROR_NETWORK',\n",
       " 'ERROR_NODEFILE',\n",
       " 'ERROR_NOT_FOR_MIP',\n",
       " 'ERROR_NOT_IN_MODEL',\n",
       " 'ERROR_NOT_SUPPORTED',\n",
       " 'ERROR_NO_LICENSE',\n",
       " 'ERROR_NULL_ARGUMENT',\n",
       " 'ERROR_NUMERIC',\n",
       " 'ERROR_OPTIMIZATION_IN_PROGRESS',\n",
       " 'ERROR_OUT_OF_MEMORY',\n",
       " 'ERROR_QCP_EQUALITY_CONSTRAINT',\n",
       " 'ERROR_Q_NOT_PSD',\n",
       " 'ERROR_SECURITY',\n",
       " 'ERROR_SIZE_LIMIT_EXCEEDED',\n",
       " 'ERROR_TUNE_MODEL_TYPES',\n",
       " 'ERROR_UNKNOWN_ATTRIBUTE',\n",
       " 'ERROR_UNKNOWN_PARAMETER',\n",
       " 'ERROR_UPDATEMODE_CHANGE',\n",
       " 'ERROR_VALUE_OUT_OF_RANGE',\n",
       " 'Error',\n",
       " 'FEASRELAX_CARDINALITY',\n",
       " 'FEASRELAX_LINEAR',\n",
       " 'FEASRELAX_QUADRATIC',\n",
       " 'GENCONSTR_ABS',\n",
       " 'GENCONSTR_AND',\n",
       " 'GENCONSTR_COS',\n",
       " 'GENCONSTR_EXP',\n",
       " 'GENCONSTR_EXPA',\n",
       " 'GENCONSTR_INDICATOR',\n",
       " 'GENCONSTR_LOG',\n",
       " 'GENCONSTR_LOGA',\n",
       " 'GENCONSTR_LOGISTIC',\n",
       " 'GENCONSTR_MAX',\n",
       " 'GENCONSTR_MIN',\n",
       " 'GENCONSTR_NL',\n",
       " 'GENCONSTR_NORM',\n",
       " 'GENCONSTR_OR',\n",
       " 'GENCONSTR_POLY',\n",
       " 'GENCONSTR_POW',\n",
       " 'GENCONSTR_PWL',\n",
       " 'GENCONSTR_SIN',\n",
       " 'GENCONSTR_TAN',\n",
       " 'GREATER_EQUAL',\n",
       " 'INFEASIBLE',\n",
       " 'INFINITY',\n",
       " 'INF_OR_UNBD',\n",
       " 'INPROGRESS',\n",
       " 'INTEGER',\n",
       " 'INTERRUPTED',\n",
       " 'ITERATION_LIMIT',\n",
       " 'LESS_EQUAL',\n",
       " 'LOADED',\n",
       " 'MAXIMIZE',\n",
       " 'MAXINT',\n",
       " 'MAX_CONCURRENT',\n",
       " 'MAX_NAMELEN',\n",
       " 'MAX_STRLEN',\n",
       " 'MAX_TAGLEN',\n",
       " 'MEM_LIMIT',\n",
       " 'METHOD_AUTO',\n",
       " 'METHOD_BARRIER',\n",
       " 'METHOD_CONCURRENT',\n",
       " 'METHOD_DETERMINISTIC_CONCURRENT',\n",
       " 'METHOD_DETERMINISTIC_CONCURRENT_SIMPLEX',\n",
       " 'METHOD_DUAL',\n",
       " 'METHOD_NONE',\n",
       " 'METHOD_PRIMAL',\n",
       " 'MINIMIZE',\n",
       " 'MIPFOCUS_BALANCED',\n",
       " 'MIPFOCUS_BESTBOUND',\n",
       " 'MIPFOCUS_FEASIBILITY',\n",
       " 'MIPFOCUS_OPTIMALITY',\n",
       " 'NODE_LIMIT',\n",
       " 'NONBASIC_LOWER',\n",
       " 'NONBASIC_UPPER',\n",
       " 'NUMERIC',\n",
       " 'OPCODE_CONSTANT',\n",
       " 'OPCODE_COS',\n",
       " 'OPCODE_DIVIDE',\n",
       " 'OPCODE_EXP',\n",
       " 'OPCODE_LOG',\n",
       " 'OPCODE_LOG10',\n",
       " 'OPCODE_LOG2',\n",
       " 'OPCODE_LOGISTIC',\n",
       " 'OPCODE_MINUS',\n",
       " 'OPCODE_MULTIPLY',\n",
       " 'OPCODE_PLUS',\n",
       " 'OPCODE_POW',\n",
       " 'OPCODE_SIN',\n",
       " 'OPCODE_SQRT',\n",
       " 'OPCODE_SQUARE',\n",
       " 'OPCODE_TAN',\n",
       " 'OPCODE_UMINUS',\n",
       " 'OPCODE_VARIABLE',\n",
       " 'OPTIMAL',\n",
       " 'PARTITION_CLEANUP',\n",
       " 'PARTITION_EARLY',\n",
       " 'PARTITION_NODES',\n",
       " 'PARTITION_ROOTEND',\n",
       " 'PARTITION_ROOTSTART',\n",
       " 'PHASE_MIP_IMPROVE',\n",
       " 'PHASE_MIP_NOREL',\n",
       " 'PHASE_MIP_SEARCH',\n",
       " 'PRESOLVE_AGGRESSIVE',\n",
       " 'PRESOLVE_AUTO',\n",
       " 'PRESOLVE_CONSERVATIVE',\n",
       " 'PRESOLVE_OFF',\n",
       " 'Param',\n",
       " 'SEMICONT',\n",
       " 'SEMIINT',\n",
       " 'SIMPLEXPRICING_AUTO',\n",
       " 'SIMPLEXPRICING_DEVEX',\n",
       " 'SIMPLEXPRICING_PARTIAL',\n",
       " 'SIMPLEXPRICING_STEEPEST_EDGE',\n",
       " 'SIMPLEXPRICING_STEEPEST_QUICK',\n",
       " 'SOLUTION_LIMIT',\n",
       " 'SOS_TYPE1',\n",
       " 'SOS_TYPE2',\n",
       " 'SUBOPTIMAL',\n",
       " 'SUPERBASIC',\n",
       " 'Status',\n",
       " 'TIME_LIMIT',\n",
       " 'UNBOUNDED',\n",
       " 'UNDEFINED',\n",
       " 'USER_OBJ_LIMIT',\n",
       " 'VARBRANCH_AUTO',\n",
       " 'VARBRANCH_MAX_INFEAS',\n",
       " 'VARBRANCH_PSEUDO_REDUCED',\n",
       " 'VARBRANCH_PSEUDO_SHADOW',\n",
       " 'VARBRANCH_STRONG',\n",
       " 'VERSION_MAJOR',\n",
       " 'VERSION_MINOR',\n",
       " 'VERSION_TECHNICAL',\n",
       " 'WORK_LIMIT',\n",
       " '__class__',\n",
       " '__delattr__',\n",
       " '__dict__',\n",
       " '__dir__',\n",
       " '__doc__',\n",
       " '__eq__',\n",
       " '__format__',\n",
       " '__ge__',\n",
       " '__getattribute__',\n",
       " '__gt__',\n",
       " '__hash__',\n",
       " '__init__',\n",
       " '__init_subclass__',\n",
       " '__le__',\n",
       " '__lt__',\n",
       " '__module__',\n",
       " '__ne__',\n",
       " '__new__',\n",
       " '__reduce__',\n",
       " '__reduce_ex__',\n",
       " '__repr__',\n",
       " '__setattr__',\n",
       " '__sizeof__',\n",
       " '__str__',\n",
       " '__subclasshook__',\n",
       " '__weakref__',\n",
       " 'attr',\n",
       " 'callback',\n",
       " 'error',\n",
       " 'param',\n",
       " 'status']"
      ]
     },
     "execution_count": 46,
     "metadata": {},
     "output_type": "execute_result"
    }
   ],
   "source": [
    "dir(GRB)"
   ]
  },
  {
   "cell_type": "code",
   "execution_count": 74,
   "metadata": {},
   "outputs": [
    {
     "name": "stdout",
     "output_type": "stream",
     "text": [
      "Gurobi Optimizer version 12.0.0 build v12.0.0rc1 (win64 - Windows 10.0 (19045.2))\n",
      "\n",
      "CPU model: AMD Ryzen 7 4800H with Radeon Graphics, instruction set [SSE2|AVX|AVX2]\n",
      "Thread count: 8 physical cores, 16 logical processors, using up to 16 threads\n",
      "\n",
      "Optimize a model with 4 rows, 2 columns and 6 nonzeros\n",
      "Model fingerprint: 0xe45260bd\n",
      "Coefficient statistics:\n",
      "  Matrix range     [9e-01, 7e+00]\n",
      "  Objective range  [9e+00, 2e+01]\n",
      "  Bounds range     [0e+00, 0e+00]\n",
      "  RHS range        [1e+01, 5e+01]\n",
      "Presolve removed 2 rows and 0 columns\n",
      "Presolve time: 0.01s\n",
      "Presolved: 2 rows, 2 columns, 4 nonzeros\n",
      "\n",
      "Iteration    Objective       Primal Inf.    Dual Inf.      Time\n",
      "       0    2.2500000e+02   1.334914e+01   0.000000e+00      0s\n",
      "       3    1.2600000e+02   0.000000e+00   0.000000e+00      0s\n",
      "\n",
      "Solved in 3 iterations and 0.01 seconds (0.00 work units)\n",
      "Optimal objective  1.260000000e+02\n"
     ]
    }
   ],
   "source": [
    "model = gp.Model(\"test\")\n",
    "x = model.addVars([1,2]) \n",
    "\n",
    "model.addConstr( 7*x[1]+4*x[2] <= 50.0)\n",
    "model.addConstr( 1/1.1*x[1]+1/0.7*x[2]<=10.0)\n",
    "model.addConstr( x[1]>=0.0)\n",
    "model.addConstr( x[2]>=0.0)\n",
    "\n",
    "model.setObjective(9*x[1]+18*x[2],GRB.MAXIMIZE)\n",
    "\n",
    "model.optimize()"
   ]
  },
  {
   "cell_type": "code",
   "execution_count": 75,
   "metadata": {},
   "outputs": [
    {
     "data": {
      "text/plain": [
       "{1: <gurobi.Var C0 (value 0.0)>, 2: <gurobi.Var C1 (value 7.0)>}"
      ]
     },
     "execution_count": 75,
     "metadata": {},
     "output_type": "execute_result"
    }
   ],
   "source": [
    "x"
   ]
  },
  {
   "cell_type": "code",
   "execution_count": 66,
   "metadata": {},
   "outputs": [
    {
     "data": {
      "text/plain": [
       "52"
      ]
     },
     "execution_count": 66,
     "metadata": {},
     "output_type": "execute_result"
    }
   ],
   "source": [
    "4*13"
   ]
  }
 ],
 "metadata": {
  "kernelspec": {
   "display_name": "Python 3",
   "language": "python",
   "name": "python3"
  },
  "language_info": {
   "codemirror_mode": {
    "name": "ipython",
    "version": 3
   },
   "file_extension": ".py",
   "mimetype": "text/x-python",
   "name": "python",
   "nbconvert_exporter": "python",
   "pygments_lexer": "ipython3",
   "version": "3.10.11"
  }
 },
 "nbformat": 4,
 "nbformat_minor": 2
}
