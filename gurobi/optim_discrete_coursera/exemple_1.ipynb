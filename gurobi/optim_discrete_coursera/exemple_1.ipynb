{
 "cells": [
  {
   "cell_type": "markdown",
   "metadata": {},
   "source": [
    "## Color map"
   ]
  },
  {
   "cell_type": "code",
   "execution_count": 1,
   "metadata": {},
   "outputs": [],
   "source": [
    "\n",
    "import gurobipy as gp\n",
    "from gurobipy import GRB\n",
    "\n",
    "Provinces = {'Si','Yan','Yu','Xu','Qing','Ji','You','Bing','Yong','Liang','Yi','Jing','Yang','Jiao'}"
   ]
  },
  {
   "cell_type": "code",
   "execution_count": 2,
   "metadata": {},
   "outputs": [],
   "source": [
    "Provinces_neighbourg = dict()\n",
    "\n",
    "Provinces_neighbourg['Si']  = ['Bing','Ji','Yan','Yu','Jing','Yong']\n",
    "Provinces_neighbourg['Yan'] = ['Si','Ji','Qing','Xu','Yu']\n",
    "Provinces_neighbourg['Yu']  = ['Si','Yan','Xu','Yang','Jing']\n",
    "Provinces_neighbourg['Xu']  = ['Yang','Yu','Yan','Qing']\n",
    "Provinces_neighbourg['Qing']  = ['Xu','Yan','Ji']\n",
    "Provinces_neighbourg['Ji']       = ['You','Qing','Yan','Si','Bing']\n",
    "Provinces_neighbourg['You']       = ['Ji','Bing']\n",
    "Provinces_neighbourg['Bing']       = ['You','Ji','Si']\n",
    "Provinces_neighbourg['Yong']       = ['Liang','Si','Jing','Yi']\n",
    "Provinces_neighbourg['Liang']       = ['Yong']\n",
    "Provinces_neighbourg['Yi']       = ['Yong','Jing','Jiao']\n",
    "Provinces_neighbourg['Jing']       = ['Yi','Yong','Si','Yu','Yang','Jiao']\n",
    "Provinces_neighbourg['Yang']       = ['Jiao','Jing','Yu','Xu']\n",
    "Provinces_neighbourg['Jiao']       = ['Yi','Jing','Yang']\n",
    "\n"
   ]
  },
  {
   "cell_type": "code",
   "execution_count": 3,
   "metadata": {},
   "outputs": [
    {
     "name": "stdout",
     "output_type": "stream",
     "text": [
      "Restricted license - for non-production use only - expires 2026-11-23\n"
     ]
    }
   ],
   "source": [
    "model = gp.Model(\"map\")"
   ]
  },
  {
   "cell_type": "code",
   "execution_count": 4,
   "metadata": {},
   "outputs": [],
   "source": [
    "colorp = model.addVars(Provinces, lb=1, ub=4, vtype=GRB.INTEGER) "
   ]
  },
  {
   "cell_type": "code",
   "execution_count": 17,
   "metadata": {},
   "outputs": [],
   "source": [
    "b = 'Bing'"
   ]
  },
  {
   "cell_type": "code",
   "execution_count": 32,
   "metadata": {},
   "outputs": [
    {
     "data": {
      "text/plain": [
       "<gurobi.Var *Awaiting Model Update*>"
      ]
     },
     "execution_count": 32,
     "metadata": {},
     "output_type": "execute_result"
    }
   ],
   "source": [
    "colorp[b]"
   ]
  },
  {
   "cell_type": "code",
   "execution_count": 5,
   "metadata": {},
   "outputs": [
    {
     "name": "stdout",
     "output_type": "stream",
     "text": [
      "Si Bing\n",
      "Si Ji\n",
      "Si Yan\n",
      "Si Yu\n",
      "Si Jing\n",
      "Si Yong\n",
      "Yan Si\n",
      "Yan Ji\n",
      "Yan Qing\n",
      "Yan Xu\n",
      "Yan Yu\n",
      "Yu Si\n",
      "Yu Yan\n",
      "Yu Xu\n",
      "Yu Yang\n",
      "Yu Jing\n",
      "Xu Yang\n",
      "Xu Yu\n",
      "Xu Yan\n",
      "Xu Qing\n",
      "Qing Xu\n",
      "Qing Yan\n",
      "Qing Ji\n",
      "Ji You\n",
      "Ji Qing\n",
      "Ji Yan\n",
      "Ji Si\n",
      "Ji Bing\n",
      "You Ji\n",
      "You Bing\n",
      "Bing You\n",
      "Bing Ji\n",
      "Bing Si\n",
      "Yong Liang\n",
      "Yong Si\n",
      "Yong Jing\n",
      "Yong Yi\n",
      "Liang Yong\n",
      "Yi Yong\n",
      "Yi Jing\n",
      "Yi Jiao\n",
      "Jing Yi\n",
      "Jing Yong\n",
      "Jing Si\n",
      "Jing Yu\n",
      "Jing Yang\n",
      "Jing Jiao\n",
      "Yang Jiao\n",
      "Yang Jing\n",
      "Yang Yu\n",
      "Yang Xu\n",
      "Jiao Yi\n",
      "Jiao Jing\n",
      "Jiao Yang\n"
     ]
    }
   ],
   "source": [
    "list_binary = list()\n",
    "nb_binary   = 0\n",
    "\n",
    "\n",
    "for p in Provinces_neighbourg.keys():\n",
    "    neigb = Provinces_neighbourg[p]\n",
    "\n",
    "    for nb in neigb:\n",
    "        name_binary = p + '_not_' + nb\n",
    "        list_binary.append(nb_binary)\n",
    "        list_binary[nb_binary] = model.addVar(vtype=GRB.BINARY, name=name_binary)\n",
    "        # Ajout des contraintes pour assurer A ≠ B\n",
    "\n",
    "        print(p,nb)\n",
    "        model.addConstr(colorp[p] <= colorp[nb] - 1 + 4*list_binary[nb_binary], name= p+'_lt'+nb)\n",
    "        model.addConstr(colorp[p] >= colorp[nb] + 1 - 4*(1-list_binary[nb_binary]), name= p+'_gt'+nb)\n",
    "\n",
    "        nb_binary += 1"
   ]
  },
  {
   "cell_type": "code",
   "execution_count": 35,
   "metadata": {},
   "outputs": [],
   "source": [
    "model.addGenConstrNL"
   ]
  },
  {
   "cell_type": "code",
   "execution_count": 6,
   "metadata": {},
   "outputs": [
    {
     "name": "stdout",
     "output_type": "stream",
     "text": [
      "Gurobi Optimizer version 12.0.0 build v12.0.0rc1 (win64 - Windows 10.0 (19045.2))\n",
      "\n",
      "CPU model: AMD Ryzen 7 4800H with Radeon Graphics, instruction set [SSE2|AVX|AVX2]\n",
      "Thread count: 8 physical cores, 16 logical processors, using up to 16 threads\n",
      "\n",
      "Optimize a model with 108 rows, 68 columns and 324 nonzeros\n",
      "Model fingerprint: 0x8b0e910b\n",
      "Variable types: 0 continuous, 68 integer (54 binary)\n",
      "Coefficient statistics:\n",
      "  Matrix range     [1e+00, 4e+00]\n",
      "  Objective range  [0e+00, 0e+00]\n",
      "  Bounds range     [1e+00, 4e+00]\n",
      "  RHS range        [1e+00, 3e+00]\n",
      "Found heuristic solution: objective 0.0000000\n",
      "\n",
      "Explored 0 nodes (0 simplex iterations) in 0.11 seconds (0.00 work units)\n",
      "Thread count was 1 (of 16 available processors)\n",
      "\n",
      "Solution count 1: 0 \n",
      "\n",
      "Optimal solution found (tolerance 1.00e-04)\n",
      "Best objective 0.000000000000e+00, best bound 0.000000000000e+00, gap 0.0000%\n"
     ]
    }
   ],
   "source": [
    "model.optimize()"
   ]
  },
  {
   "cell_type": "code",
   "execution_count": 7,
   "metadata": {},
   "outputs": [
    {
     "data": {
      "text/plain": [
       "{'Liang': <gurobi.Var C0 (value 1.0)>,\n",
       " 'Jiao': <gurobi.Var C1 (value 2.0)>,\n",
       " 'Bing': <gurobi.Var C2 (value 2.0)>,\n",
       " 'Xu': <gurobi.Var C3 (value 4.0)>,\n",
       " 'Qing': <gurobi.Var C4 (value 1.0)>,\n",
       " 'Si': <gurobi.Var C5 (value 1.0)>,\n",
       " 'Ji': <gurobi.Var C6 (value 3.0)>,\n",
       " 'Jing': <gurobi.Var C7 (value 4.0)>,\n",
       " 'You': <gurobi.Var C8 (value 1.0)>,\n",
       " 'Yong': <gurobi.Var C9 (value 2.0)>,\n",
       " 'Yan': <gurobi.Var C10 (value 2.0)>,\n",
       " 'Yang': <gurobi.Var C11 (value 1.0)>,\n",
       " 'Yu': <gurobi.Var C12 (value 3.0)>,\n",
       " 'Yi': <gurobi.Var C13 (value 1.0)>}"
      ]
     },
     "execution_count": 7,
     "metadata": {},
     "output_type": "execute_result"
    }
   ],
   "source": [
    "colorp"
   ]
  },
  {
   "cell_type": "code",
   "execution_count": 9,
   "metadata": {},
   "outputs": [
    {
     "name": "stdout",
     "output_type": "stream",
     "text": [
      "Gurobi Optimizer version 12.0.0 build v12.0.0rc1 (win64 - Windows 10.0 (19045.2))\n",
      "\n",
      "CPU model: AMD Ryzen 7 4800H with Radeon Graphics, instruction set [SSE2|AVX|AVX2]\n",
      "Thread count: 8 physical cores, 16 logical processors, using up to 16 threads\n",
      "\n",
      "Optimize a model with 2 rows, 3 columns and 6 nonzeros\n",
      "Model fingerprint: 0x9f425b00\n",
      "Variable types: 0 continuous, 3 integer (1 binary)\n",
      "Coefficient statistics:\n",
      "  Matrix range     [1e+00, 4e+00]\n",
      "  Objective range  [0e+00, 0e+00]\n",
      "  Bounds range     [1e+00, 4e+00]\n",
      "  RHS range        [1e+00, 3e+00]\n",
      "Presolve removed 2 rows and 3 columns\n",
      "Presolve time: 0.03s\n",
      "Presolve: All rows and columns removed\n",
      "\n",
      "Explored 0 nodes (0 simplex iterations) in 0.04 seconds (0.00 work units)\n",
      "Thread count was 1 (of 16 available processors)\n",
      "\n",
      "Solution count 1: 0 \n",
      "\n",
      "Optimal solution found (tolerance 1.00e-04)\n",
      "Best objective 0.000000000000e+00, best bound 0.000000000000e+00, gap 0.0000%\n"
     ]
    }
   ],
   "source": [
    "import gurobipy as gp\n",
    "from gurobipy import GRB\n",
    "\n",
    "# Création du modèle\n",
    "model = gp.Model()\n",
    "\n",
    "# Définition des variables entières\n",
    "A = model.addVar(vtype=GRB.INTEGER, lb=1, ub=4, name=\"A\")\n",
    "B = model.addVar(vtype=GRB.INTEGER, lb=1, ub=4, name=\"B\")\n",
    "\n",
    "# Variable binaire auxiliaire\n",
    "y = model.addVar(vtype=GRB.BINARY, name=\"y\")\n",
    "\n",
    "# Ajout des contraintes pour assurer A ≠ B\n",
    "model.addConstr(A <= B - 1 + 4*y, \"A_lt_B\")\n",
    "model.addConstr(A >= B + 1 - 4*(1 - y), \"A_gt_B\")\n",
    "\n",
    "# Optimisation (si un objectif est défini)\n",
    "model.optimize()"
   ]
  }
 ],
 "metadata": {
  "kernelspec": {
   "display_name": "Python 3",
   "language": "python",
   "name": "python3"
  },
  "language_info": {
   "codemirror_mode": {
    "name": "ipython",
    "version": 3
   },
   "file_extension": ".py",
   "mimetype": "text/x-python",
   "name": "python",
   "nbconvert_exporter": "python",
   "pygments_lexer": "ipython3",
   "version": "3.10.11"
  }
 },
 "nbformat": 4,
 "nbformat_minor": 2
}
