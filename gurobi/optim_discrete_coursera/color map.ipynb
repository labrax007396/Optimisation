{
 "cells": [
  {
   "cell_type": "markdown",
   "metadata": {},
   "source": [
    "## Color map"
   ]
  },
  {
   "cell_type": "code",
   "execution_count": 1,
   "metadata": {},
   "outputs": [],
   "source": [
    "\n",
    "import gurobipy as gp\n",
    "from gurobipy import GRB\n",
    "\n",
    "Provinces = {'Si','Yan','Yu','Xu','Qing','Ji','You','Bing','Yong','Liang','Yi','Jing','Yang','Jiao'}"
   ]
  },
  {
   "cell_type": "code",
   "execution_count": 2,
   "metadata": {},
   "outputs": [],
   "source": [
    "Provinces_neighbourg = dict()\n",
    "\n",
    "Provinces_neighbourg['Si']  = ['Bing','Ji','Yan','Yu','Jing','Yong']\n",
    "Provinces_neighbourg['Yan'] = ['Si','Ji','Qing','Xu','Yu']\n",
    "Provinces_neighbourg['Yu']  = ['Si','Yan','Xu','Yang','Jing']\n",
    "Provinces_neighbourg['Xu']  = ['Yang','Yu','Yan','Qing']\n",
    "Provinces_neighbourg['Qing']  = ['Xu','Yan','Ji']\n",
    "Provinces_neighbourg['Ji']       = ['You','Qing','Yan','Si','Bing']\n",
    "Provinces_neighbourg['You']       = ['Ji','Bing']\n",
    "Provinces_neighbourg['Bing']       = ['You','Ji','Si']\n",
    "Provinces_neighbourg['Yong']       = ['Liang','Si','Jing','Yi']\n",
    "Provinces_neighbourg['Liang']       = ['Yong']\n",
    "Provinces_neighbourg['Yi']       = ['Yong','Jing','Jiao']\n",
    "Provinces_neighbourg['Jing']       = ['Yi','Yong','Si','Yu','Yang','Jiao']\n",
    "Provinces_neighbourg['Yang']       = ['Jiao','Jing','Yu','Xu']\n",
    "Provinces_neighbourg['Jiao']       = ['Yi','Jing','Yang']\n",
    "\n"
   ]
  },
  {
   "cell_type": "code",
   "execution_count": 3,
   "metadata": {},
   "outputs": [
    {
     "name": "stdout",
     "output_type": "stream",
     "text": [
      "Restricted license - for non-production use only - expires 2026-11-23\n"
     ]
    }
   ],
   "source": [
    "model = gp.Model(\"map\")"
   ]
  },
  {
   "cell_type": "code",
   "execution_count": 12,
   "metadata": {},
   "outputs": [],
   "source": [
    "colorp = model.addVars(Provinces, lb=1, ub=4, vtype=GRB.INTEGER) "
   ]
  },
  {
   "cell_type": "code",
   "execution_count": 17,
   "metadata": {},
   "outputs": [],
   "source": [
    "b = 'Bing'"
   ]
  },
  {
   "cell_type": "code",
   "execution_count": null,
   "metadata": {},
   "outputs": [],
   "source": [
    "colorp[b]"
   ]
  },
  {
   "cell_type": "code",
   "execution_count": null,
   "metadata": {},
   "outputs": [],
   "source": [
    "list_binary = list()\n",
    "nb_binary   = 0\n",
    "\n",
    "\n",
    "for p in Provinces_neighbourg.keys():\n",
    "    neigb = Provinces_neighbourg[p]\n",
    "\n",
    "    for nb in neigb:\n",
    "        name_binary = p + '_not_' + nb\n",
    "        list_binary.append(nb_binary)\n",
    "        list_binary[nb_binary] = model.addVar(vtype=GRB.BINARY, name=name_binary)\n",
    "        # Ajout des contraintes pour assurer A ≠ B\n",
    "\n",
    "        print(p,nb)\n",
    "        model.addConstr(colorp[p] <= colorp[nb] - 1 + 4*list_binary[nb_binary], name= p+'_lt'+nb)\n",
    "        model.addConstr(colorp[p] >= colorp[nb] + 1 - 4*(1-list_binary[nb_binary]), name= p+'_gt'+nb)\n",
    "\n",
    "        nb_binary += 1"
   ]
  },
  {
   "cell_type": "code",
   "execution_count": 16,
   "metadata": {},
   "outputs": [
    {
     "name": "stdout",
     "output_type": "stream",
     "text": [
      "Gurobi Optimizer version 12.0.0 build v12.0.0rc1 (win64 - Windows 10.0 (19045.2))\n",
      "\n",
      "CPU model: AMD Ryzen 7 4800H with Radeon Graphics, instruction set [SSE2|AVX|AVX2]\n",
      "Thread count: 8 physical cores, 16 logical processors, using up to 16 threads\n",
      "\n",
      "Optimize a model with 108 rows, 68 columns and 324 nonzeros\n",
      "Model fingerprint: 0x4f4c9f5d\n",
      "Variable types: 0 continuous, 68 integer (54 binary)\n",
      "Coefficient statistics:\n",
      "  Matrix range     [1e+00, 4e+00]\n",
      "  Objective range  [0e+00, 0e+00]\n",
      "  Bounds range     [1e+00, 4e+00]\n",
      "  RHS range        [1e+00, 3e+00]\n",
      "Found heuristic solution: objective 0.0000000\n",
      "\n",
      "Explored 0 nodes (0 simplex iterations) in 0.01 seconds (0.00 work units)\n",
      "Thread count was 1 (of 16 available processors)\n",
      "\n",
      "Solution count 1: 0 \n",
      "\n",
      "Optimal solution found (tolerance 1.00e-04)\n",
      "Best objective 0.000000000000e+00, best bound 0.000000000000e+00, gap 0.0000%\n"
     ]
    }
   ],
   "source": [
    "model.optimize()"
   ]
  },
  {
   "cell_type": "markdown",
   "metadata": {},
   "source": [
    "## Formulation avec des variables binaires"
   ]
  },
  {
   "cell_type": "code",
   "execution_count": 45,
   "metadata": {},
   "outputs": [],
   "source": [
    "Colors = {'Rouge','Vert','Bleu','Violet'}"
   ]
  },
  {
   "cell_type": "code",
   "execution_count": 46,
   "metadata": {},
   "outputs": [],
   "source": [
    "model = gp.Model(\"map\")"
   ]
  },
  {
   "cell_type": "code",
   "execution_count": 47,
   "metadata": {},
   "outputs": [],
   "source": [
    "colorp = model.addVars(Provinces, Colors, vtype=GRB.BINARY) "
   ]
  },
  {
   "cell_type": "markdown",
   "metadata": {},
   "source": [
    "### Les provinces ne peuvent avoir qu'une seule couleur"
   ]
  },
  {
   "cell_type": "code",
   "execution_count": 48,
   "metadata": {},
   "outputs": [],
   "source": [
    "\n",
    "Const_One = model.addConstrs((gp.quicksum(colorp[p,c] for c in Colors) == 1) for p in Provinces)\n",
    "\n",
    "model.update()"
   ]
  },
  {
   "cell_type": "markdown",
   "metadata": {},
   "source": [
    "### Les provinces voisines ont des couleurs différentes"
   ]
  },
  {
   "cell_type": "code",
   "execution_count": 42,
   "metadata": {},
   "outputs": [
    {
     "data": {
      "text/plain": [
       "<gurobi.Constr *Awaiting Model Update*>"
      ]
     },
     "execution_count": 42,
     "metadata": {},
     "output_type": "execute_result"
    }
   ],
   "source": [
    "\n",
    "\n",
    "\n",
    "model.addConstr( colorp['Yang','Bleu'] + colorp['Xu','Bleu'] <=1,name=\"Voisin_Xu\")\n",
    "model.addConstr( colorp['Yang','Vert'] + colorp['Xu','Vert'] <=1,name=\"Voisin_Xu1\")\n",
    "model.addConstr( colorp['Yang','Rouge'] + colorp['Xu','Rouge'] <=1,name=\"Voisin_Xu2\")\n",
    "model.addConstr( colorp['Yang','Violet'] + colorp['Xu','Violet'] <=1,name=\"Voisin_Xu3\")\n",
    "\n",
    "\n"
   ]
  },
  {
   "cell_type": "code",
   "execution_count": 49,
   "metadata": {},
   "outputs": [],
   "source": [
    "for p in Provinces:\n",
    "    Provinces_Voisines = Provinces_neighbourg[p]\n",
    "    for nb in Provinces_Voisines:\n",
    "        for c in Colors:\n",
    "            model.addConstr( colorp[nb,c] + colorp[p,c] <=1)\n",
    "\n"
   ]
  },
  {
   "cell_type": "code",
   "execution_count": null,
   "metadata": {},
   "outputs": [
    {
     "data": {
      "text/plain": [
       "'Yang'"
      ]
     },
     "execution_count": 50,
     "metadata": {},
     "output_type": "execute_result"
    }
   ],
   "source": [
    "OperatingMines = mining.addConstrs((working.sum(year, '*') <= max_mines for year in years), \"Operating_mines\")"
   ]
  },
  {
   "cell_type": "code",
   "execution_count": 50,
   "metadata": {},
   "outputs": [
    {
     "name": "stdout",
     "output_type": "stream",
     "text": [
      "Gurobi Optimizer version 12.0.0 build v12.0.0rc1 (win64 - Windows 10.0 (19045.2))\n",
      "\n",
      "CPU model: AMD Ryzen 7 4800H with Radeon Graphics, instruction set [SSE2|AVX|AVX2]\n",
      "Thread count: 8 physical cores, 16 logical processors, using up to 16 threads\n",
      "\n",
      "Optimize a model with 230 rows, 56 columns and 488 nonzeros\n",
      "Model fingerprint: 0x3e82630b\n",
      "Variable types: 0 continuous, 56 integer (56 binary)\n",
      "Coefficient statistics:\n",
      "  Matrix range     [1e+00, 1e+00]\n",
      "  Objective range  [0e+00, 0e+00]\n",
      "  Bounds range     [1e+00, 1e+00]\n",
      "  RHS range        [1e+00, 1e+00]\n",
      "Found heuristic solution: objective 0.0000000\n",
      "\n",
      "Explored 0 nodes (0 simplex iterations) in 0.01 seconds (0.00 work units)\n",
      "Thread count was 1 (of 16 available processors)\n",
      "\n",
      "Solution count 1: 0 \n",
      "\n",
      "Optimal solution found (tolerance 1.00e-04)\n",
      "Best objective 0.000000000000e+00, best bound 0.000000000000e+00, gap 0.0000%\n"
     ]
    }
   ],
   "source": [
    "model.optimize()"
   ]
  },
  {
   "cell_type": "code",
   "execution_count": 51,
   "metadata": {},
   "outputs": [
    {
     "data": {
      "text/plain": [
       "{('Yong', 'Rouge'): <gurobi.Var C0 (value 0.0)>,\n",
       " ('Yong', 'Bleu'): <gurobi.Var C1 (value 0.0)>,\n",
       " ('Yong', 'Vert'): <gurobi.Var C2 (value 0.0)>,\n",
       " ('Yong', 'Violet'): <gurobi.Var C3 (value 1.0)>,\n",
       " ('Ji', 'Rouge'): <gurobi.Var C4 (value 0.0)>,\n",
       " ('Ji', 'Bleu'): <gurobi.Var C5 (value 0.0)>,\n",
       " ('Ji', 'Vert'): <gurobi.Var C6 (value 0.0)>,\n",
       " ('Ji', 'Violet'): <gurobi.Var C7 (value 1.0)>,\n",
       " ('Yang', 'Rouge'): <gurobi.Var C8 (value 0.0)>,\n",
       " ('Yang', 'Bleu'): <gurobi.Var C9 (value 1.0)>,\n",
       " ('Yang', 'Vert'): <gurobi.Var C10 (value 0.0)>,\n",
       " ('Yang', 'Violet'): <gurobi.Var C11 (value 0.0)>,\n",
       " ('Jing', 'Rouge'): <gurobi.Var C12 (value 0.0)>,\n",
       " ('Jing', 'Bleu'): <gurobi.Var C13 (value 0.0)>,\n",
       " ('Jing', 'Vert'): <gurobi.Var C14 (value 1.0)>,\n",
       " ('Jing', 'Violet'): <gurobi.Var C15 (value 0.0)>,\n",
       " ('Yan', 'Rouge'): <gurobi.Var C16 (value 0.0)>,\n",
       " ('Yan', 'Bleu'): <gurobi.Var C17 (value 0.0)>,\n",
       " ('Yan', 'Vert'): <gurobi.Var C18 (value 1.0)>,\n",
       " ('Yan', 'Violet'): <gurobi.Var C19 (value 0.0)>,\n",
       " ('Jiao', 'Rouge'): <gurobi.Var C20 (value 0.0)>,\n",
       " ('Jiao', 'Bleu'): <gurobi.Var C21 (value 0.0)>,\n",
       " ('Jiao', 'Vert'): <gurobi.Var C22 (value 0.0)>,\n",
       " ('Jiao', 'Violet'): <gurobi.Var C23 (value 1.0)>,\n",
       " ('You', 'Rouge'): <gurobi.Var C24 (value 1.0)>,\n",
       " ('You', 'Bleu'): <gurobi.Var C25 (value 0.0)>,\n",
       " ('You', 'Vert'): <gurobi.Var C26 (value 0.0)>,\n",
       " ('You', 'Violet'): <gurobi.Var C27 (value 0.0)>,\n",
       " ('Bing', 'Rouge'): <gurobi.Var C28 (value 0.0)>,\n",
       " ('Bing', 'Bleu'): <gurobi.Var C29 (value 1.0)>,\n",
       " ('Bing', 'Vert'): <gurobi.Var C30 (value 0.0)>,\n",
       " ('Bing', 'Violet'): <gurobi.Var C31 (value 0.0)>,\n",
       " ('Qing', 'Rouge'): <gurobi.Var C32 (value 0.0)>,\n",
       " ('Qing', 'Bleu'): <gurobi.Var C33 (value 1.0)>,\n",
       " ('Qing', 'Vert'): <gurobi.Var C34 (value 0.0)>,\n",
       " ('Qing', 'Violet'): <gurobi.Var C35 (value 0.0)>,\n",
       " ('Liang', 'Rouge'): <gurobi.Var C36 (value 0.0)>,\n",
       " ('Liang', 'Bleu'): <gurobi.Var C37 (value 1.0)>,\n",
       " ('Liang', 'Vert'): <gurobi.Var C38 (value 0.0)>,\n",
       " ('Liang', 'Violet'): <gurobi.Var C39 (value 0.0)>,\n",
       " ('Yi', 'Rouge'): <gurobi.Var C40 (value 0.0)>,\n",
       " ('Yi', 'Bleu'): <gurobi.Var C41 (value 1.0)>,\n",
       " ('Yi', 'Vert'): <gurobi.Var C42 (value 0.0)>,\n",
       " ('Yi', 'Violet'): <gurobi.Var C43 (value 0.0)>,\n",
       " ('Si', 'Rouge'): <gurobi.Var C44 (value 1.0)>,\n",
       " ('Si', 'Bleu'): <gurobi.Var C45 (value 0.0)>,\n",
       " ('Si', 'Vert'): <gurobi.Var C46 (value 0.0)>,\n",
       " ('Si', 'Violet'): <gurobi.Var C47 (value 0.0)>,\n",
       " ('Yu', 'Rouge'): <gurobi.Var C48 (value 0.0)>,\n",
       " ('Yu', 'Bleu'): <gurobi.Var C49 (value 0.0)>,\n",
       " ('Yu', 'Vert'): <gurobi.Var C50 (value 0.0)>,\n",
       " ('Yu', 'Violet'): <gurobi.Var C51 (value 1.0)>,\n",
       " ('Xu', 'Rouge'): <gurobi.Var C52 (value 1.0)>,\n",
       " ('Xu', 'Bleu'): <gurobi.Var C53 (value 0.0)>,\n",
       " ('Xu', 'Vert'): <gurobi.Var C54 (value 0.0)>,\n",
       " ('Xu', 'Violet'): <gurobi.Var C55 (value 0.0)>}"
      ]
     },
     "execution_count": 51,
     "metadata": {},
     "output_type": "execute_result"
    }
   ],
   "source": [
    "colorp"
   ]
  }
 ],
 "metadata": {
  "kernelspec": {
   "display_name": "Python 3",
   "language": "python",
   "name": "python3"
  },
  "language_info": {
   "codemirror_mode": {
    "name": "ipython",
    "version": 3
   },
   "file_extension": ".py",
   "mimetype": "text/x-python",
   "name": "python",
   "nbconvert_exporter": "python",
   "pygments_lexer": "ipython3",
   "version": "3.10.11"
  }
 },
 "nbformat": 4,
 "nbformat_minor": 2
}
