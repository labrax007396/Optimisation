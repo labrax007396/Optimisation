{
 "cells": [
  {
   "cell_type": "code",
   "execution_count": 1,
   "metadata": {},
   "outputs": [],
   "source": [
    "import gurobipy as gp\n",
    "import pandas as pd\n",
    "from gurobipy import GRB\n"
   ]
  },
  {
   "cell_type": "code",
   "execution_count": 59,
   "metadata": {},
   "outputs": [],
   "source": [
    "production   = ['Baltimore','Cleveland','Little Rock','Birmingham','Charleston']\n",
    "distribution = ['Columbia','Indianapolis','Lexington','Nashville','Richmond','St_Louis']"
   ]
  },
  {
   "cell_type": "code",
   "execution_count": 60,
   "metadata": {},
   "outputs": [],
   "source": [
    "transp_cost = pd.read_csv('cost.csv')"
   ]
  },
  {
   "cell_type": "code",
   "execution_count": 61,
   "metadata": {},
   "outputs": [
    {
     "data": {
      "text/html": [
       "<div>\n",
       "<style scoped>\n",
       "    .dataframe tbody tr th:only-of-type {\n",
       "        vertical-align: middle;\n",
       "    }\n",
       "\n",
       "    .dataframe tbody tr th {\n",
       "        vertical-align: top;\n",
       "    }\n",
       "\n",
       "    .dataframe thead th {\n",
       "        text-align: right;\n",
       "    }\n",
       "</style>\n",
       "<table border=\"1\" class=\"dataframe\">\n",
       "  <thead>\n",
       "    <tr style=\"text-align: right;\">\n",
       "      <th></th>\n",
       "      <th>production</th>\n",
       "      <th>distribution</th>\n",
       "      <th>cost</th>\n",
       "    </tr>\n",
       "  </thead>\n",
       "  <tbody>\n",
       "    <tr>\n",
       "      <th>0</th>\n",
       "      <td>Baltimore</td>\n",
       "      <td>Columbia</td>\n",
       "      <td>4.50</td>\n",
       "    </tr>\n",
       "    <tr>\n",
       "      <th>1</th>\n",
       "      <td>Baltimore</td>\n",
       "      <td>Indianapolis</td>\n",
       "      <td>5.09</td>\n",
       "    </tr>\n",
       "    <tr>\n",
       "      <th>2</th>\n",
       "      <td>Baltimore</td>\n",
       "      <td>Lexington</td>\n",
       "      <td>4.33</td>\n",
       "    </tr>\n",
       "    <tr>\n",
       "      <th>3</th>\n",
       "      <td>Baltimore</td>\n",
       "      <td>Nashville</td>\n",
       "      <td>5.96</td>\n",
       "    </tr>\n",
       "    <tr>\n",
       "      <th>4</th>\n",
       "      <td>Baltimore</td>\n",
       "      <td>Richmond</td>\n",
       "      <td>1.96</td>\n",
       "    </tr>\n",
       "    <tr>\n",
       "      <th>5</th>\n",
       "      <td>Baltimore</td>\n",
       "      <td>St_Louis</td>\n",
       "      <td>7.30</td>\n",
       "    </tr>\n",
       "    <tr>\n",
       "      <th>6</th>\n",
       "      <td>Cleveland</td>\n",
       "      <td>Columbia</td>\n",
       "      <td>2.43</td>\n",
       "    </tr>\n",
       "    <tr>\n",
       "      <th>7</th>\n",
       "      <td>Cleveland</td>\n",
       "      <td>Indianapolis</td>\n",
       "      <td>2.37</td>\n",
       "    </tr>\n",
       "    <tr>\n",
       "      <th>8</th>\n",
       "      <td>Cleveland</td>\n",
       "      <td>Lexington</td>\n",
       "      <td>2.54</td>\n",
       "    </tr>\n",
       "    <tr>\n",
       "      <th>9</th>\n",
       "      <td>Cleveland</td>\n",
       "      <td>Nashville</td>\n",
       "      <td>4.13</td>\n",
       "    </tr>\n",
       "    <tr>\n",
       "      <th>10</th>\n",
       "      <td>Cleveland</td>\n",
       "      <td>Richmond</td>\n",
       "      <td>3.20</td>\n",
       "    </tr>\n",
       "    <tr>\n",
       "      <th>11</th>\n",
       "      <td>Cleveland</td>\n",
       "      <td>St_Louis</td>\n",
       "      <td>4.88</td>\n",
       "    </tr>\n",
       "    <tr>\n",
       "      <th>12</th>\n",
       "      <td>Little Rock</td>\n",
       "      <td>Columbia</td>\n",
       "      <td>6.42</td>\n",
       "    </tr>\n",
       "    <tr>\n",
       "      <th>13</th>\n",
       "      <td>Little Rock</td>\n",
       "      <td>Indianapolis</td>\n",
       "      <td>4.83</td>\n",
       "    </tr>\n",
       "    <tr>\n",
       "      <th>14</th>\n",
       "      <td>Little Rock</td>\n",
       "      <td>Lexington</td>\n",
       "      <td>3.39</td>\n",
       "    </tr>\n",
       "    <tr>\n",
       "      <th>15</th>\n",
       "      <td>Little Rock</td>\n",
       "      <td>Nashville</td>\n",
       "      <td>4.40</td>\n",
       "    </tr>\n",
       "    <tr>\n",
       "      <th>16</th>\n",
       "      <td>Little Rock</td>\n",
       "      <td>Richmond</td>\n",
       "      <td>7.44</td>\n",
       "    </tr>\n",
       "    <tr>\n",
       "      <th>17</th>\n",
       "      <td>Little Rock</td>\n",
       "      <td>St_Louis</td>\n",
       "      <td>2.92</td>\n",
       "    </tr>\n",
       "    <tr>\n",
       "      <th>18</th>\n",
       "      <td>Birmingham</td>\n",
       "      <td>Columbia</td>\n",
       "      <td>3.33</td>\n",
       "    </tr>\n",
       "    <tr>\n",
       "      <th>19</th>\n",
       "      <td>Birmingham</td>\n",
       "      <td>Indianapolis</td>\n",
       "      <td>4.33</td>\n",
       "    </tr>\n",
       "    <tr>\n",
       "      <th>20</th>\n",
       "      <td>Birmingham</td>\n",
       "      <td>Lexington</td>\n",
       "      <td>3.38</td>\n",
       "    </tr>\n",
       "    <tr>\n",
       "      <th>21</th>\n",
       "      <td>Birmingham</td>\n",
       "      <td>Nashville</td>\n",
       "      <td>1.53</td>\n",
       "    </tr>\n",
       "    <tr>\n",
       "      <th>22</th>\n",
       "      <td>Birmingham</td>\n",
       "      <td>Richmond</td>\n",
       "      <td>5.95</td>\n",
       "    </tr>\n",
       "    <tr>\n",
       "      <th>23</th>\n",
       "      <td>Birmingham</td>\n",
       "      <td>St_Louis</td>\n",
       "      <td>4.01</td>\n",
       "    </tr>\n",
       "    <tr>\n",
       "      <th>24</th>\n",
       "      <td>Charleston</td>\n",
       "      <td>Columbia</td>\n",
       "      <td>3.02</td>\n",
       "    </tr>\n",
       "    <tr>\n",
       "      <th>25</th>\n",
       "      <td>Charleston</td>\n",
       "      <td>Indianapolis</td>\n",
       "      <td>2.61</td>\n",
       "    </tr>\n",
       "    <tr>\n",
       "      <th>26</th>\n",
       "      <td>Charleston</td>\n",
       "      <td>Lexington</td>\n",
       "      <td>1.61</td>\n",
       "    </tr>\n",
       "    <tr>\n",
       "      <th>27</th>\n",
       "      <td>Charleston</td>\n",
       "      <td>Nashville</td>\n",
       "      <td>4.44</td>\n",
       "    </tr>\n",
       "    <tr>\n",
       "      <th>28</th>\n",
       "      <td>Charleston</td>\n",
       "      <td>Richmond</td>\n",
       "      <td>2.36</td>\n",
       "    </tr>\n",
       "    <tr>\n",
       "      <th>29</th>\n",
       "      <td>Charleston</td>\n",
       "      <td>St_Louis</td>\n",
       "      <td>4.60</td>\n",
       "    </tr>\n",
       "  </tbody>\n",
       "</table>\n",
       "</div>"
      ],
      "text/plain": [
       "     production  distribution  cost\n",
       "0     Baltimore      Columbia  4.50\n",
       "1     Baltimore  Indianapolis  5.09\n",
       "2     Baltimore     Lexington  4.33\n",
       "3     Baltimore     Nashville  5.96\n",
       "4     Baltimore      Richmond  1.96\n",
       "5     Baltimore      St_Louis  7.30\n",
       "6     Cleveland      Columbia  2.43\n",
       "7     Cleveland  Indianapolis  2.37\n",
       "8     Cleveland     Lexington  2.54\n",
       "9     Cleveland     Nashville  4.13\n",
       "10    Cleveland      Richmond  3.20\n",
       "11    Cleveland      St_Louis  4.88\n",
       "12  Little Rock      Columbia  6.42\n",
       "13  Little Rock  Indianapolis  4.83\n",
       "14  Little Rock     Lexington  3.39\n",
       "15  Little Rock     Nashville  4.40\n",
       "16  Little Rock      Richmond  7.44\n",
       "17  Little Rock      St_Louis  2.92\n",
       "18   Birmingham      Columbia  3.33\n",
       "19   Birmingham  Indianapolis  4.33\n",
       "20   Birmingham     Lexington  3.38\n",
       "21   Birmingham     Nashville  1.53\n",
       "22   Birmingham      Richmond  5.95\n",
       "23   Birmingham      St_Louis  4.01\n",
       "24   Charleston      Columbia  3.02\n",
       "25   Charleston  Indianapolis  2.61\n",
       "26   Charleston     Lexington  1.61\n",
       "27   Charleston     Nashville  4.44\n",
       "28   Charleston      Richmond  2.36\n",
       "29   Charleston      St_Louis  4.60"
      ]
     },
     "execution_count": 61,
     "metadata": {},
     "output_type": "execute_result"
    }
   ],
   "source": [
    "transp_cost "
   ]
  },
  {
   "cell_type": "code",
   "execution_count": 62,
   "metadata": {},
   "outputs": [],
   "source": [
    "transp_cost = transp_cost.pivot(index='production',columns='distribution',values='cost')"
   ]
  },
  {
   "cell_type": "code",
   "execution_count": 63,
   "metadata": {},
   "outputs": [],
   "source": [
    "max_prod = pd.Series([180,200,140,80,180], index = production, name=\"max_production\")\n",
    "n_demand = pd.Series([89,95,121,101,116,181], index = distribution, name=\"demand\")\n"
   ]
  },
  {
   "cell_type": "code",
   "execution_count": 64,
   "metadata": {},
   "outputs": [],
   "source": [
    "frac = 0.75"
   ]
  },
  {
   "cell_type": "code",
   "execution_count": 65,
   "metadata": {},
   "outputs": [],
   "source": [
    "m = gp.Model('widgets')\n",
    "x = {}\n",
    "\n",
    "for p in production:\n",
    "    for d in distribution:\n",
    "        x[p,d] = m.addVar(name = p+\"_to_\"+d)\n",
    "\n",
    "m.update()"
   ]
  },
  {
   "cell_type": "code",
   "execution_count": 66,
   "metadata": {},
   "outputs": [],
   "source": [
    "m = gp.Model('widgets')\n",
    "\n",
    "\n",
    "x = m.addVars(production,distribution, name='prod_ship')\n",
    "\n",
    "m.update()"
   ]
  },
  {
   "cell_type": "code",
   "execution_count": 21,
   "metadata": {},
   "outputs": [
    {
     "data": {
      "text/plain": [
       "{('Baltimore', 'Columbia'): <gurobi.Var prod_ship[Baltimore,Columbia]>,\n",
       " ('Baltimore', 'Indianapolis'): <gurobi.Var prod_ship[Baltimore,Indianapolis]>,\n",
       " ('Baltimore', 'Lexington'): <gurobi.Var prod_ship[Baltimore,Lexington]>,\n",
       " ('Baltimore', 'Nashville'): <gurobi.Var prod_ship[Baltimore,Nashville]>,\n",
       " ('Baltimore', 'Richmond'): <gurobi.Var prod_ship[Baltimore,Richmond]>,\n",
       " ('Baltimore', 'St.Louis'): <gurobi.Var prod_ship[Baltimore,St.Louis]>,\n",
       " ('Cleveland', 'Columbia'): <gurobi.Var prod_ship[Cleveland,Columbia]>,\n",
       " ('Cleveland', 'Indianapolis'): <gurobi.Var prod_ship[Cleveland,Indianapolis]>,\n",
       " ('Cleveland', 'Lexington'): <gurobi.Var prod_ship[Cleveland,Lexington]>,\n",
       " ('Cleveland', 'Nashville'): <gurobi.Var prod_ship[Cleveland,Nashville]>,\n",
       " ('Cleveland', 'Richmond'): <gurobi.Var prod_ship[Cleveland,Richmond]>,\n",
       " ('Cleveland', 'St.Louis'): <gurobi.Var prod_ship[Cleveland,St.Louis]>,\n",
       " ('Little Rock', 'Columbia'): <gurobi.Var prod_ship[Little Rock,Columbia]>,\n",
       " ('Little Rock',\n",
       "  'Indianapolis'): <gurobi.Var prod_ship[Little Rock,Indianapolis]>,\n",
       " ('Little Rock', 'Lexington'): <gurobi.Var prod_ship[Little Rock,Lexington]>,\n",
       " ('Little Rock', 'Nashville'): <gurobi.Var prod_ship[Little Rock,Nashville]>,\n",
       " ('Little Rock', 'Richmond'): <gurobi.Var prod_ship[Little Rock,Richmond]>,\n",
       " ('Little Rock', 'St.Louis'): <gurobi.Var prod_ship[Little Rock,St.Louis]>,\n",
       " ('Birmingham', 'Columbia'): <gurobi.Var prod_ship[Birmingham,Columbia]>,\n",
       " ('Birmingham',\n",
       "  'Indianapolis'): <gurobi.Var prod_ship[Birmingham,Indianapolis]>,\n",
       " ('Birmingham', 'Lexington'): <gurobi.Var prod_ship[Birmingham,Lexington]>,\n",
       " ('Birmingham', 'Nashville'): <gurobi.Var prod_ship[Birmingham,Nashville]>,\n",
       " ('Birmingham', 'Richmond'): <gurobi.Var prod_ship[Birmingham,Richmond]>,\n",
       " ('Birmingham', 'St.Louis'): <gurobi.Var prod_ship[Birmingham,St.Louis]>,\n",
       " ('Charleston', 'Columbia'): <gurobi.Var prod_ship[Charleston,Columbia]>,\n",
       " ('Charleston',\n",
       "  'Indianapolis'): <gurobi.Var prod_ship[Charleston,Indianapolis]>,\n",
       " ('Charleston', 'Lexington'): <gurobi.Var prod_ship[Charleston,Lexington]>,\n",
       " ('Charleston', 'Nashville'): <gurobi.Var prod_ship[Charleston,Nashville]>,\n",
       " ('Charleston', 'Richmond'): <gurobi.Var prod_ship[Charleston,Richmond]>,\n",
       " ('Charleston', 'St.Louis'): <gurobi.Var prod_ship[Charleston,St.Louis]>}"
      ]
     },
     "execution_count": 21,
     "metadata": {},
     "output_type": "execute_result"
    }
   ],
   "source": [
    "x"
   ]
  },
  {
   "cell_type": "code",
   "execution_count": 67,
   "metadata": {},
   "outputs": [
    {
     "data": {
      "text/plain": [
       "{'Columbia': <gurobi.Constr meet_demand[Columbia]>,\n",
       " 'Indianapolis': <gurobi.Constr meet_demand[Indianapolis]>,\n",
       " 'Lexington': <gurobi.Constr meet_demand[Lexington]>,\n",
       " 'Nashville': <gurobi.Constr meet_demand[Nashville]>,\n",
       " 'Richmond': <gurobi.Constr meet_demand[Richmond]>,\n",
       " 'St_Louis': <gurobi.Constr meet_demand[St_Louis]>}"
      ]
     },
     "execution_count": 67,
     "metadata": {},
     "output_type": "execute_result"
    }
   ],
   "source": [
    "meet_demand = m.addConstrs((gp.quicksum(x[p,d] for p in production) <= n_demand[d] for d in distribution), name='meet_demand')\n",
    "\n",
    "m.update()\n",
    "meet_demand"
   ]
  },
  {
   "cell_type": "code",
   "execution_count": 68,
   "metadata": {},
   "outputs": [],
   "source": [
    "can_produce  = m.addConstrs((gp.quicksum(x[p,d] for d in distribution) <= max_prod[p] for p in production), name='can_produce')\n",
    "must_produce = m.addConstrs((gp.quicksum(x[p,d] for d in distribution) >= frac*max_prod[p] for p in production), name='must_produce')\n",
    "m.update()"
   ]
  },
  {
   "cell_type": "code",
   "execution_count": 40,
   "metadata": {},
   "outputs": [
    {
     "data": {
      "text/plain": [
       "4.5"
      ]
     },
     "execution_count": 40,
     "metadata": {},
     "output_type": "execute_result"
    }
   ],
   "source": [
    "transp_cost['Columbia'].loc['Baltimore']"
   ]
  },
  {
   "cell_type": "code",
   "execution_count": 45,
   "metadata": {},
   "outputs": [
    {
     "data": {
      "text/plain": [
       "['Baltimore', 'Cleveland', 'Little Rock', 'Birmingham', 'Charleston']"
      ]
     },
     "execution_count": 45,
     "metadata": {},
     "output_type": "execute_result"
    }
   ],
   "source": [
    "production"
   ]
  },
  {
   "cell_type": "code",
   "execution_count": 53,
   "metadata": {},
   "outputs": [
    {
     "data": {
      "text/plain": [
       "'St.Louis'"
      ]
     },
     "execution_count": 53,
     "metadata": {},
     "output_type": "execute_result"
    }
   ],
   "source": [
    "distribution[5]"
   ]
  },
  {
   "cell_type": "code",
   "execution_count": 57,
   "metadata": {},
   "outputs": [
    {
     "data": {
      "text/plain": [
       "production\n",
       "Baltimore      7.30\n",
       "Birmingham     4.01\n",
       "Charleston     4.60\n",
       "Cleveland      4.88\n",
       "Little Rock    2.92\n",
       "Name: St. Louis, dtype: float64"
      ]
     },
     "execution_count": 57,
     "metadata": {},
     "output_type": "execute_result"
    }
   ],
   "source": [
    "transp_cost['St. Louis']"
   ]
  },
  {
   "cell_type": "code",
   "execution_count": 51,
   "metadata": {},
   "outputs": [
    {
     "data": {
      "text/html": [
       "<div>\n",
       "<style scoped>\n",
       "    .dataframe tbody tr th:only-of-type {\n",
       "        vertical-align: middle;\n",
       "    }\n",
       "\n",
       "    .dataframe tbody tr th {\n",
       "        vertical-align: top;\n",
       "    }\n",
       "\n",
       "    .dataframe thead th {\n",
       "        text-align: right;\n",
       "    }\n",
       "</style>\n",
       "<table border=\"1\" class=\"dataframe\">\n",
       "  <thead>\n",
       "    <tr style=\"text-align: right;\">\n",
       "      <th>distribution</th>\n",
       "      <th>Columbia</th>\n",
       "      <th>Indianapolis</th>\n",
       "      <th>Lexington</th>\n",
       "      <th>Nashville</th>\n",
       "      <th>Richmond</th>\n",
       "      <th>St. Louis</th>\n",
       "    </tr>\n",
       "    <tr>\n",
       "      <th>production</th>\n",
       "      <th></th>\n",
       "      <th></th>\n",
       "      <th></th>\n",
       "      <th></th>\n",
       "      <th></th>\n",
       "      <th></th>\n",
       "    </tr>\n",
       "  </thead>\n",
       "  <tbody>\n",
       "    <tr>\n",
       "      <th>Baltimore</th>\n",
       "      <td>4.50</td>\n",
       "      <td>5.09</td>\n",
       "      <td>4.33</td>\n",
       "      <td>5.96</td>\n",
       "      <td>1.96</td>\n",
       "      <td>7.30</td>\n",
       "    </tr>\n",
       "    <tr>\n",
       "      <th>Birmingham</th>\n",
       "      <td>3.33</td>\n",
       "      <td>4.33</td>\n",
       "      <td>3.38</td>\n",
       "      <td>1.53</td>\n",
       "      <td>5.95</td>\n",
       "      <td>4.01</td>\n",
       "    </tr>\n",
       "    <tr>\n",
       "      <th>Charleston</th>\n",
       "      <td>3.02</td>\n",
       "      <td>2.61</td>\n",
       "      <td>1.61</td>\n",
       "      <td>4.44</td>\n",
       "      <td>2.36</td>\n",
       "      <td>4.60</td>\n",
       "    </tr>\n",
       "    <tr>\n",
       "      <th>Cleveland</th>\n",
       "      <td>2.43</td>\n",
       "      <td>2.37</td>\n",
       "      <td>2.54</td>\n",
       "      <td>4.13</td>\n",
       "      <td>3.20</td>\n",
       "      <td>4.88</td>\n",
       "    </tr>\n",
       "    <tr>\n",
       "      <th>Little Rock</th>\n",
       "      <td>6.42</td>\n",
       "      <td>4.83</td>\n",
       "      <td>3.39</td>\n",
       "      <td>4.40</td>\n",
       "      <td>7.44</td>\n",
       "      <td>2.92</td>\n",
       "    </tr>\n",
       "  </tbody>\n",
       "</table>\n",
       "</div>"
      ],
      "text/plain": [
       "distribution  Columbia  Indianapolis  Lexington  Nashville  Richmond  \\\n",
       "production                                                             \n",
       "Baltimore         4.50          5.09       4.33       5.96      1.96   \n",
       "Birmingham        3.33          4.33       3.38       1.53      5.95   \n",
       "Charleston        3.02          2.61       1.61       4.44      2.36   \n",
       "Cleveland         2.43          2.37       2.54       4.13      3.20   \n",
       "Little Rock       6.42          4.83       3.39       4.40      7.44   \n",
       "\n",
       "distribution  St. Louis  \n",
       "production               \n",
       "Baltimore          7.30  \n",
       "Birmingham         4.01  \n",
       "Charleston         4.60  \n",
       "Cleveland          4.88  \n",
       "Little Rock        2.92  "
      ]
     },
     "execution_count": 51,
     "metadata": {},
     "output_type": "execute_result"
    }
   ],
   "source": [
    "transp_cost"
   ]
  },
  {
   "cell_type": "code",
   "execution_count": 69,
   "metadata": {},
   "outputs": [
    {
     "name": "stdout",
     "output_type": "stream",
     "text": [
      "Baltimore Columbia\n",
      "Baltimore Indianapolis\n",
      "Baltimore Lexington\n",
      "Baltimore Nashville\n",
      "Baltimore Richmond\n",
      "Baltimore St_Louis\n",
      "Cleveland Columbia\n",
      "Cleveland Indianapolis\n",
      "Cleveland Lexington\n",
      "Cleveland Nashville\n",
      "Cleveland Richmond\n",
      "Cleveland St_Louis\n",
      "Little Rock Columbia\n",
      "Little Rock Indianapolis\n",
      "Little Rock Lexington\n",
      "Little Rock Nashville\n",
      "Little Rock Richmond\n",
      "Little Rock St_Louis\n",
      "Birmingham Columbia\n",
      "Birmingham Indianapolis\n",
      "Birmingham Lexington\n",
      "Birmingham Nashville\n",
      "Birmingham Richmond\n",
      "Birmingham St_Louis\n",
      "Charleston Columbia\n",
      "Charleston Indianapolis\n",
      "Charleston Lexington\n",
      "Charleston Nashville\n",
      "Charleston Richmond\n",
      "Charleston St_Louis\n"
     ]
    }
   ],
   "source": [
    "for p in production:\n",
    "    for d in distribution:\n",
    "        print(p,d)\n",
    "        transp_cost[d].loc[p]"
   ]
  },
  {
   "cell_type": "code",
   "execution_count": 70,
   "metadata": {},
   "outputs": [],
   "source": [
    "m.setObjective(gp.quicksum(transp_cost[d].loc[p]*x[p,d] for p in production for d in distribution), GRB.MINIMIZE)"
   ]
  },
  {
   "cell_type": "code",
   "execution_count": 71,
   "metadata": {},
   "outputs": [
    {
     "name": "stdout",
     "output_type": "stream",
     "text": [
      "Warning: variable name \"prod_ship[Little Rock,Columbia]\" has a space\n",
      "Warning: constraint name \"can_produce[Little Rock]\" has a space\n",
      "Warning: to let Gurobi read it back, use rlp format\n"
     ]
    }
   ],
   "source": [
    "m.write('widget_shipment.lp')"
   ]
  },
  {
   "cell_type": "code",
   "execution_count": 72,
   "metadata": {},
   "outputs": [
    {
     "name": "stdout",
     "output_type": "stream",
     "text": [
      "Gurobi Optimizer version 12.0.0 build v12.0.0rc1 (win64 - Windows 10.0 (19045.2))\n",
      "\n",
      "CPU model: AMD Ryzen 7 4800H with Radeon Graphics, instruction set [SSE2|AVX|AVX2]\n",
      "Thread count: 8 physical cores, 16 logical processors, using up to 16 threads\n",
      "\n",
      "Optimize a model with 16 rows, 30 columns and 90 nonzeros\n",
      "Model fingerprint: 0xf8f89186\n",
      "Coefficient statistics:\n",
      "  Matrix range     [1e+00, 1e+00]\n",
      "  Objective range  [2e+00, 7e+00]\n",
      "  Bounds range     [0e+00, 0e+00]\n",
      "  RHS range        [6e+01, 2e+02]\n",
      "Presolve removed 5 rows and 0 columns\n",
      "Presolve time: 0.02s\n",
      "Presolved: 11 rows, 35 columns, 65 nonzeros\n",
      "\n",
      "Iteration    Objective       Primal Inf.    Dual Inf.      Time\n",
      "       0    0.0000000e+00   7.312500e+01   0.000000e+00      0s\n",
      "      10    1.3022500e+03   0.000000e+00   0.000000e+00      0s\n",
      "\n",
      "Solved in 10 iterations and 0.04 seconds (0.00 work units)\n",
      "Optimal objective  1.302250000e+03\n"
     ]
    }
   ],
   "source": [
    "m.optimize()"
   ]
  },
  {
   "cell_type": "code",
   "execution_count": 77,
   "metadata": {},
   "outputs": [],
   "source": [
    "x_values = pd.Series(m.getAttr('X',x), name = \"shipment\", index = transp_cost.index)\n",
    "sol = pd.concat([transp_cost, x_values], axis=1)"
   ]
  },
  {
   "cell_type": "code",
   "execution_count": 79,
   "metadata": {},
   "outputs": [],
   "source": [
    "all_vars = {v.varName: v.x for v in m.getVars()}"
   ]
  },
  {
   "cell_type": "code",
   "execution_count": 80,
   "metadata": {},
   "outputs": [
    {
     "data": {
      "text/plain": [
       "{'prod_ship[Baltimore,Columbia]': 19.0,\n",
       " 'prod_ship[Baltimore,Indianapolis]': 0.0,\n",
       " 'prod_ship[Baltimore,Lexington]': 0.0,\n",
       " 'prod_ship[Baltimore,Nashville]': 0.0,\n",
       " 'prod_ship[Baltimore,Richmond]': 116.0,\n",
       " 'prod_ship[Baltimore,St_Louis]': 0.0,\n",
       " 'prod_ship[Cleveland,Columbia]': 69.0,\n",
       " 'prod_ship[Cleveland,Indianapolis]': 81.0,\n",
       " 'prod_ship[Cleveland,Lexington]': 0.0,\n",
       " 'prod_ship[Cleveland,Nashville]': 0.0,\n",
       " 'prod_ship[Cleveland,Richmond]': 0.0,\n",
       " 'prod_ship[Cleveland,St_Louis]': 0.0,\n",
       " 'prod_ship[Little Rock,Columbia]': 0.0,\n",
       " 'prod_ship[Little Rock,Indianapolis]': 0.0,\n",
       " 'prod_ship[Little Rock,Lexington]': 0.0,\n",
       " 'prod_ship[Little Rock,Nashville]': 0.0,\n",
       " 'prod_ship[Little Rock,Richmond]': 0.0,\n",
       " 'prod_ship[Little Rock,St_Louis]': 105.0,\n",
       " 'prod_ship[Birmingham,Columbia]': 0.0,\n",
       " 'prod_ship[Birmingham,Indianapolis]': 0.0,\n",
       " 'prod_ship[Birmingham,Lexington]': 0.0,\n",
       " 'prod_ship[Birmingham,Nashville]': 60.0,\n",
       " 'prod_ship[Birmingham,Richmond]': 0.0,\n",
       " 'prod_ship[Birmingham,St_Louis]': 0.0,\n",
       " 'prod_ship[Charleston,Columbia]': 0.0,\n",
       " 'prod_ship[Charleston,Indianapolis]': 14.0,\n",
       " 'prod_ship[Charleston,Lexington]': 121.0,\n",
       " 'prod_ship[Charleston,Nashville]': 0.0,\n",
       " 'prod_ship[Charleston,Richmond]': 0.0,\n",
       " 'prod_ship[Charleston,St_Louis]': 0.0}"
      ]
     },
     "execution_count": 80,
     "metadata": {},
     "output_type": "execute_result"
    }
   ],
   "source": [
    "all_vars"
   ]
  }
 ],
 "metadata": {
  "kernelspec": {
   "display_name": "Python 3",
   "language": "python",
   "name": "python3"
  },
  "language_info": {
   "codemirror_mode": {
    "name": "ipython",
    "version": 3
   },
   "file_extension": ".py",
   "mimetype": "text/x-python",
   "name": "python",
   "nbconvert_exporter": "python",
   "pygments_lexer": "ipython3",
   "version": "3.10.11"
  }
 },
 "nbformat": 4,
 "nbformat_minor": 2
}
