{
 "cells": [
  {
   "cell_type": "code",
   "execution_count": null,
   "metadata": {},
   "outputs": [],
   "source": [
    "import numpy as np\n",
    "\n",
    "from ax.plot.contour import plot_contour\n",
    "from ax.plot.trace import optimization_trace_single_method\n",
    "from ax.service.managed_loop import optimize\n",
    "from ax.metrics.branin import branin\n",
    "from ax.utils.measurement.synthetic_functions import hartmann6\n",
    "from ax.utils.notebook.plotting import render, init_notebook_plotting\n",
    "\n",
    "init_notebook_plotting()"
   ]
  },
  {
   "cell_type": "code",
   "execution_count": 2,
   "metadata": {},
   "outputs": [],
   "source": [
    "def hartmann_evaluation_function(parameterization):\n",
    "    x = np.array([parameterization.get(f\"x{i+1}\") for i in range(6)])\n",
    "    # In our case, standard error is 0, since we are computing a synthetic function.\n",
    "    return {\"hartmann6\": (hartmann6(x), 0.0), \"l2norm\": (np.sqrt((x ** 2).sum()), 0.0)}"
   ]
  },
  {
   "cell_type": "code",
   "execution_count": null,
   "metadata": {},
   "outputs": [],
   "source": [
    "best_parameters, values, experiment, model = optimize(\n",
    "    parameters=[\n",
    "        {\n",
    "            \"name\": \"x1\",\n",
    "            \"type\": \"range\",\n",
    "            \"bounds\": [0.0, 1.0],\n",
    "            \"value_type\": \"float\",  # Optional, defaults to inference from type of \"bounds\".\n",
    "            \"log_scale\": False,  # Optional, defaults to False.\n",
    "        },\n",
    "        {\n",
    "            \"name\": \"x2\",\n",
    "            \"type\": \"range\",\n",
    "            \"bounds\": [0.0, 1.0],\n",
    "        },\n",
    "        {\n",
    "            \"name\": \"x3\",\n",
    "            \"type\": \"range\",\n",
    "            \"bounds\": [0.0, 1.0],\n",
    "        },\n",
    "        {\n",
    "            \"name\": \"x4\",\n",
    "            \"type\": \"range\",\n",
    "            \"bounds\": [0.0, 1.0],\n",
    "        },\n",
    "        {\n",
    "            \"name\": \"x5\",\n",
    "            \"type\": \"range\",\n",
    "            \"bounds\": [0.0, 1.0],\n",
    "        },\n",
    "        {\n",
    "            \"name\": \"x6\",\n",
    "            \"type\": \"range\",\n",
    "            \"bounds\": [0.0, 1.0],\n",
    "        },\n",
    "    ],\n",
    "    experiment_name=\"test\",\n",
    "    objective_name=\"hartmann6\",\n",
    "    evaluation_function=hartmann_evaluation_function,\n",
    "    minimize=True,  # Optional, defaults to False.\n",
    "    parameter_constraints=[\"x1 + x2 <= 20\"],  # Optional.\n",
    "    outcome_constraints=[\"l2norm <= 1.25\"],  # Optional.\n",
    "    total_trials=30, # Optional.\n",
    ")"
   ]
  },
  {
   "cell_type": "code",
   "execution_count": null,
   "metadata": {},
   "outputs": [],
   "source": []
  }
 ],
 "metadata": {
  "kernelspec": {
   "display_name": "Python 3.9.1 64-bit",
   "language": "python",
   "name": "python3"
  },
  "language_info": {
   "codemirror_mode": {
    "name": "ipython",
    "version": 3
   },
   "file_extension": ".py",
   "mimetype": "text/x-python",
   "name": "python",
   "nbconvert_exporter": "python",
   "pygments_lexer": "ipython3",
   "version": "3.9.1"
  },
  "orig_nbformat": 4,
  "vscode": {
   "interpreter": {
    "hash": "81794d4967e6c3204c66dcd87b604927b115b27c00565d3d43f05ba2f3a2cb0d"
   }
  }
 },
 "nbformat": 4,
 "nbformat_minor": 2
}
